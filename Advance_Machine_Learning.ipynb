{
  "nbformat": 4,
  "nbformat_minor": 0,
  "metadata": {
    "colab": {
      "provenance": [],
      "include_colab_link": true
    },
    "kernelspec": {
      "name": "python3",
      "display_name": "Python 3"
    },
    "language_info": {
      "name": "python"
    }
  },
  "cells": [
    {
      "cell_type": "markdown",
      "metadata": {
        "id": "view-in-github",
        "colab_type": "text"
      },
      "source": [
        "<a href=\"https://colab.research.google.com/github/mdsaeed24/mdsaeed24/blob/main/Advance_Machine_Learning.ipynb\" target=\"_parent\"><img src=\"https://colab.research.google.com/assets/colab-badge.svg\" alt=\"Open In Colab\"/></a>"
      ]
    },
    {
      "cell_type": "code",
      "execution_count": null,
      "metadata": {
        "id": "RZdWSov6SHuD"
      },
      "outputs": [],
      "source": [
        "import numpy as np # A useful package for dealing with mathematical processes, it can deal with multi-dimensional arrays such as matrices intuitively.\n",
        "import pandas as pd #a common package for viewing tabular data\n",
        "import matplotlib.pyplot as plt #We will be using Matplotlib for our graphs\n",
        "import sklearn.linear_model, sklearn.datasets\n",
        "from sklearn.model_selection import train_test_split\n",
        "from sklearn.linear_model import LinearRegression\n",
        "from sklearn.metrics import mean_squared_error\n",
        "from sklearn.metrics import mean_absolute_error\n",
        "from sklearn.metrics import r2_score\n",
        "import seaborn as sns\n",
        "from tensorflow.keras.activations import sigmoid, linear, relu # Activation functions we will use\n",
        "from tensorflow.keras.models import Model, Sequential # Different mays of constructing models, we will primarily be covering the 'functional api' which uses `Model`\n",
        "from tensorflow.keras.optimizers import SGD # We will be using the SGD optimiser today, though there are other options you may want to explore (such as Adam)\n",
        "from tensorflow.keras.losses import MeanSquaredError, BinaryCrossentropy  # We will be using TFs MSE loss function for regression and BinaryCross Entropy for classification.\n",
        "from tensorflow.keras.layers import Input, Dense, Dropout # The layers we will be using to construct our network.\n",
        "from tensorflow.keras.regularizers import L1, L2 # Regularisation being used in model layers\n",
        "from tensorflow.keras.metrics import BinaryAccuracy # Accuracy Metric for classification\n",
        "from tensorflow.keras.callbacks import EarlyStopping # Allows Early Stopping regularisation method."
      ]
    },
    {
      "cell_type": "code",
      "source": [
        "dataset = pd.read_csv(\"Comp1801CourseworkDataResit.csv\")"
      ],
      "metadata": {
        "id": "oPBOfIEISP9w"
      },
      "execution_count": null,
      "outputs": []
    },
    {
      "cell_type": "code",
      "source": [
        "dataset\n"
      ],
      "metadata": {
        "id": "jwpwzw5STBnr",
        "colab": {
          "base_uri": "https://localhost:8080/",
          "height": 463
        },
        "outputId": "b1cf414d-68cf-4870-a006-28b6db3183be"
      },
      "execution_count": null,
      "outputs": [
        {
          "output_type": "execute_result",
          "data": {
            "text/plain": [
              "     Age  SiteSpending  SiteTime  RecommendImpression Education  \\\n",
              "0     28       1986.92        70                    3   A Level   \n",
              "1     34       4243.54       214                   11       PhD   \n",
              "2     51       3160.61       220                    6       PhD   \n",
              "3     27       1382.38        47                    0   A Level   \n",
              "4     24       1369.44        63                    3       PhD   \n",
              "..   ...           ...       ...                  ...       ...   \n",
              "995   24       1499.83        64                    4   A Level   \n",
              "996   30         15.47        55                    0     Other   \n",
              "997   57        685.19       140                    1     Other   \n",
              "998   27        633.73        65                    3    Degree   \n",
              "999   60       2708.47       127                    6     Other   \n",
              "\n",
              "           WorkType     Sex                    Region     Salary  \n",
              "0    Private sector    Male                  Scotland   27447.26  \n",
              "1    Private sector    Male  Yorkshire and The Humber  120044.00  \n",
              "2    Private sector    Male           East of England   53133.79  \n",
              "3    Private sector    Male           East of England   21874.01  \n",
              "4        Unemployed  Female                North West   21222.03  \n",
              "..              ...     ...                       ...        ...  \n",
              "995  Private sector    Male                  Scotland   23512.40  \n",
              "996  Private sector    Male          Northern Ireland   41449.48  \n",
              "997      Unemployed  Female             West Midlands   24461.62  \n",
              "998  Private sector    Male                South East   20284.37  \n",
              "999  Private sector    Male                North West   38316.52  \n",
              "\n",
              "[1000 rows x 9 columns]"
            ],
            "text/html": [
              "\n",
              "  <div id=\"df-19f6afb8-693c-4659-8564-947b540ab27b\">\n",
              "    <div class=\"colab-df-container\">\n",
              "      <div>\n",
              "<style scoped>\n",
              "    .dataframe tbody tr th:only-of-type {\n",
              "        vertical-align: middle;\n",
              "    }\n",
              "\n",
              "    .dataframe tbody tr th {\n",
              "        vertical-align: top;\n",
              "    }\n",
              "\n",
              "    .dataframe thead th {\n",
              "        text-align: right;\n",
              "    }\n",
              "</style>\n",
              "<table border=\"1\" class=\"dataframe\">\n",
              "  <thead>\n",
              "    <tr style=\"text-align: right;\">\n",
              "      <th></th>\n",
              "      <th>Age</th>\n",
              "      <th>SiteSpending</th>\n",
              "      <th>SiteTime</th>\n",
              "      <th>RecommendImpression</th>\n",
              "      <th>Education</th>\n",
              "      <th>WorkType</th>\n",
              "      <th>Sex</th>\n",
              "      <th>Region</th>\n",
              "      <th>Salary</th>\n",
              "    </tr>\n",
              "  </thead>\n",
              "  <tbody>\n",
              "    <tr>\n",
              "      <th>0</th>\n",
              "      <td>28</td>\n",
              "      <td>1986.92</td>\n",
              "      <td>70</td>\n",
              "      <td>3</td>\n",
              "      <td>A Level</td>\n",
              "      <td>Private sector</td>\n",
              "      <td>Male</td>\n",
              "      <td>Scotland</td>\n",
              "      <td>27447.26</td>\n",
              "    </tr>\n",
              "    <tr>\n",
              "      <th>1</th>\n",
              "      <td>34</td>\n",
              "      <td>4243.54</td>\n",
              "      <td>214</td>\n",
              "      <td>11</td>\n",
              "      <td>PhD</td>\n",
              "      <td>Private sector</td>\n",
              "      <td>Male</td>\n",
              "      <td>Yorkshire and The Humber</td>\n",
              "      <td>120044.00</td>\n",
              "    </tr>\n",
              "    <tr>\n",
              "      <th>2</th>\n",
              "      <td>51</td>\n",
              "      <td>3160.61</td>\n",
              "      <td>220</td>\n",
              "      <td>6</td>\n",
              "      <td>PhD</td>\n",
              "      <td>Private sector</td>\n",
              "      <td>Male</td>\n",
              "      <td>East of England</td>\n",
              "      <td>53133.79</td>\n",
              "    </tr>\n",
              "    <tr>\n",
              "      <th>3</th>\n",
              "      <td>27</td>\n",
              "      <td>1382.38</td>\n",
              "      <td>47</td>\n",
              "      <td>0</td>\n",
              "      <td>A Level</td>\n",
              "      <td>Private sector</td>\n",
              "      <td>Male</td>\n",
              "      <td>East of England</td>\n",
              "      <td>21874.01</td>\n",
              "    </tr>\n",
              "    <tr>\n",
              "      <th>4</th>\n",
              "      <td>24</td>\n",
              "      <td>1369.44</td>\n",
              "      <td>63</td>\n",
              "      <td>3</td>\n",
              "      <td>PhD</td>\n",
              "      <td>Unemployed</td>\n",
              "      <td>Female</td>\n",
              "      <td>North West</td>\n",
              "      <td>21222.03</td>\n",
              "    </tr>\n",
              "    <tr>\n",
              "      <th>...</th>\n",
              "      <td>...</td>\n",
              "      <td>...</td>\n",
              "      <td>...</td>\n",
              "      <td>...</td>\n",
              "      <td>...</td>\n",
              "      <td>...</td>\n",
              "      <td>...</td>\n",
              "      <td>...</td>\n",
              "      <td>...</td>\n",
              "    </tr>\n",
              "    <tr>\n",
              "      <th>995</th>\n",
              "      <td>24</td>\n",
              "      <td>1499.83</td>\n",
              "      <td>64</td>\n",
              "      <td>4</td>\n",
              "      <td>A Level</td>\n",
              "      <td>Private sector</td>\n",
              "      <td>Male</td>\n",
              "      <td>Scotland</td>\n",
              "      <td>23512.40</td>\n",
              "    </tr>\n",
              "    <tr>\n",
              "      <th>996</th>\n",
              "      <td>30</td>\n",
              "      <td>15.47</td>\n",
              "      <td>55</td>\n",
              "      <td>0</td>\n",
              "      <td>Other</td>\n",
              "      <td>Private sector</td>\n",
              "      <td>Male</td>\n",
              "      <td>Northern Ireland</td>\n",
              "      <td>41449.48</td>\n",
              "    </tr>\n",
              "    <tr>\n",
              "      <th>997</th>\n",
              "      <td>57</td>\n",
              "      <td>685.19</td>\n",
              "      <td>140</td>\n",
              "      <td>1</td>\n",
              "      <td>Other</td>\n",
              "      <td>Unemployed</td>\n",
              "      <td>Female</td>\n",
              "      <td>West Midlands</td>\n",
              "      <td>24461.62</td>\n",
              "    </tr>\n",
              "    <tr>\n",
              "      <th>998</th>\n",
              "      <td>27</td>\n",
              "      <td>633.73</td>\n",
              "      <td>65</td>\n",
              "      <td>3</td>\n",
              "      <td>Degree</td>\n",
              "      <td>Private sector</td>\n",
              "      <td>Male</td>\n",
              "      <td>South East</td>\n",
              "      <td>20284.37</td>\n",
              "    </tr>\n",
              "    <tr>\n",
              "      <th>999</th>\n",
              "      <td>60</td>\n",
              "      <td>2708.47</td>\n",
              "      <td>127</td>\n",
              "      <td>6</td>\n",
              "      <td>Other</td>\n",
              "      <td>Private sector</td>\n",
              "      <td>Male</td>\n",
              "      <td>North West</td>\n",
              "      <td>38316.52</td>\n",
              "    </tr>\n",
              "  </tbody>\n",
              "</table>\n",
              "<p>1000 rows × 9 columns</p>\n",
              "</div>\n",
              "      <button class=\"colab-df-convert\" onclick=\"convertToInteractive('df-19f6afb8-693c-4659-8564-947b540ab27b')\"\n",
              "              title=\"Convert this dataframe to an interactive table.\"\n",
              "              style=\"display:none;\">\n",
              "        \n",
              "  <svg xmlns=\"http://www.w3.org/2000/svg\" height=\"24px\"viewBox=\"0 0 24 24\"\n",
              "       width=\"24px\">\n",
              "    <path d=\"M0 0h24v24H0V0z\" fill=\"none\"/>\n",
              "    <path d=\"M18.56 5.44l.94 2.06.94-2.06 2.06-.94-2.06-.94-.94-2.06-.94 2.06-2.06.94zm-11 1L8.5 8.5l.94-2.06 2.06-.94-2.06-.94L8.5 2.5l-.94 2.06-2.06.94zm10 10l.94 2.06.94-2.06 2.06-.94-2.06-.94-.94-2.06-.94 2.06-2.06.94z\"/><path d=\"M17.41 7.96l-1.37-1.37c-.4-.4-.92-.59-1.43-.59-.52 0-1.04.2-1.43.59L10.3 9.45l-7.72 7.72c-.78.78-.78 2.05 0 2.83L4 21.41c.39.39.9.59 1.41.59.51 0 1.02-.2 1.41-.59l7.78-7.78 2.81-2.81c.8-.78.8-2.07 0-2.86zM5.41 20L4 18.59l7.72-7.72 1.47 1.35L5.41 20z\"/>\n",
              "  </svg>\n",
              "      </button>\n",
              "      \n",
              "  <style>\n",
              "    .colab-df-container {\n",
              "      display:flex;\n",
              "      flex-wrap:wrap;\n",
              "      gap: 12px;\n",
              "    }\n",
              "\n",
              "    .colab-df-convert {\n",
              "      background-color: #E8F0FE;\n",
              "      border: none;\n",
              "      border-radius: 50%;\n",
              "      cursor: pointer;\n",
              "      display: none;\n",
              "      fill: #1967D2;\n",
              "      height: 32px;\n",
              "      padding: 0 0 0 0;\n",
              "      width: 32px;\n",
              "    }\n",
              "\n",
              "    .colab-df-convert:hover {\n",
              "      background-color: #E2EBFA;\n",
              "      box-shadow: 0px 1px 2px rgba(60, 64, 67, 0.3), 0px 1px 3px 1px rgba(60, 64, 67, 0.15);\n",
              "      fill: #174EA6;\n",
              "    }\n",
              "\n",
              "    [theme=dark] .colab-df-convert {\n",
              "      background-color: #3B4455;\n",
              "      fill: #D2E3FC;\n",
              "    }\n",
              "\n",
              "    [theme=dark] .colab-df-convert:hover {\n",
              "      background-color: #434B5C;\n",
              "      box-shadow: 0px 1px 3px 1px rgba(0, 0, 0, 0.15);\n",
              "      filter: drop-shadow(0px 1px 2px rgba(0, 0, 0, 0.3));\n",
              "      fill: #FFFFFF;\n",
              "    }\n",
              "  </style>\n",
              "\n",
              "      <script>\n",
              "        const buttonEl =\n",
              "          document.querySelector('#df-19f6afb8-693c-4659-8564-947b540ab27b button.colab-df-convert');\n",
              "        buttonEl.style.display =\n",
              "          google.colab.kernel.accessAllowed ? 'block' : 'none';\n",
              "\n",
              "        async function convertToInteractive(key) {\n",
              "          const element = document.querySelector('#df-19f6afb8-693c-4659-8564-947b540ab27b');\n",
              "          const dataTable =\n",
              "            await google.colab.kernel.invokeFunction('convertToInteractive',\n",
              "                                                     [key], {});\n",
              "          if (!dataTable) return;\n",
              "\n",
              "          const docLinkHtml = 'Like what you see? Visit the ' +\n",
              "            '<a target=\"_blank\" href=https://colab.research.google.com/notebooks/data_table.ipynb>data table notebook</a>'\n",
              "            + ' to learn more about interactive tables.';\n",
              "          element.innerHTML = '';\n",
              "          dataTable['output_type'] = 'display_data';\n",
              "          await google.colab.output.renderOutput(dataTable, element);\n",
              "          const docLink = document.createElement('div');\n",
              "          docLink.innerHTML = docLinkHtml;\n",
              "          element.appendChild(docLink);\n",
              "        }\n",
              "      </script>\n",
              "    </div>\n",
              "  </div>\n",
              "  "
            ]
          },
          "metadata": {},
          "execution_count": 3
        }
      ]
    },
    {
      "cell_type": "markdown",
      "source": [
        "Random the data\n"
      ],
      "metadata": {
        "id": "GGD-5rkpTLba"
      }
    },
    {
      "cell_type": "code",
      "source": [
        "rng = np.random.default_rng(0)\n",
        "dataset = dataset.iloc[rng.permutation(len(dataset))].reset_index(drop=True)\n"
      ],
      "metadata": {
        "id": "R7incvrmTTWa"
      },
      "execution_count": null,
      "outputs": []
    },
    {
      "cell_type": "markdown",
      "source": [
        "Converting cateorical data into numerical\n"
      ],
      "metadata": {
        "id": "h5TkarwEU0WW"
      }
    },
    {
      "cell_type": "code",
      "source": [
        "dataset.head()"
      ],
      "metadata": {
        "id": "rPUH7sEEU5iy",
        "colab": {
          "base_uri": "https://localhost:8080/",
          "height": 204
        },
        "outputId": "7d38b4bb-5c3b-4add-a5d6-464cb7d7ce34"
      },
      "execution_count": null,
      "outputs": [
        {
          "output_type": "execute_result",
          "data": {
            "text/plain": [
              "   Age  SiteSpending  SiteTime  RecommendImpression Education        WorkType  \\\n",
              "0   20       1479.68        94                    1   A Level      Unemployed   \n",
              "1   28        651.70        52                    2   A Level      Unemployed   \n",
              "2   63       4014.53       132                    7     Other  Private sector   \n",
              "3   27       3920.23        59                    8   A Level  Private sector   \n",
              "4   50       3944.95       267                    9    Degree  Private sector   \n",
              "\n",
              "      Sex         Region    Salary  \n",
              "0  Female  East Midlands  15256.34  \n",
              "1    Male     North West  17215.99  \n",
              "2  Female       Scotland  65412.80  \n",
              "3  Female     South West  56271.76  \n",
              "4  Female     South West  64153.68  "
            ],
            "text/html": [
              "\n",
              "  <div id=\"df-01e1a7b7-1daa-43bd-866e-c733388c513a\">\n",
              "    <div class=\"colab-df-container\">\n",
              "      <div>\n",
              "<style scoped>\n",
              "    .dataframe tbody tr th:only-of-type {\n",
              "        vertical-align: middle;\n",
              "    }\n",
              "\n",
              "    .dataframe tbody tr th {\n",
              "        vertical-align: top;\n",
              "    }\n",
              "\n",
              "    .dataframe thead th {\n",
              "        text-align: right;\n",
              "    }\n",
              "</style>\n",
              "<table border=\"1\" class=\"dataframe\">\n",
              "  <thead>\n",
              "    <tr style=\"text-align: right;\">\n",
              "      <th></th>\n",
              "      <th>Age</th>\n",
              "      <th>SiteSpending</th>\n",
              "      <th>SiteTime</th>\n",
              "      <th>RecommendImpression</th>\n",
              "      <th>Education</th>\n",
              "      <th>WorkType</th>\n",
              "      <th>Sex</th>\n",
              "      <th>Region</th>\n",
              "      <th>Salary</th>\n",
              "    </tr>\n",
              "  </thead>\n",
              "  <tbody>\n",
              "    <tr>\n",
              "      <th>0</th>\n",
              "      <td>20</td>\n",
              "      <td>1479.68</td>\n",
              "      <td>94</td>\n",
              "      <td>1</td>\n",
              "      <td>A Level</td>\n",
              "      <td>Unemployed</td>\n",
              "      <td>Female</td>\n",
              "      <td>East Midlands</td>\n",
              "      <td>15256.34</td>\n",
              "    </tr>\n",
              "    <tr>\n",
              "      <th>1</th>\n",
              "      <td>28</td>\n",
              "      <td>651.70</td>\n",
              "      <td>52</td>\n",
              "      <td>2</td>\n",
              "      <td>A Level</td>\n",
              "      <td>Unemployed</td>\n",
              "      <td>Male</td>\n",
              "      <td>North West</td>\n",
              "      <td>17215.99</td>\n",
              "    </tr>\n",
              "    <tr>\n",
              "      <th>2</th>\n",
              "      <td>63</td>\n",
              "      <td>4014.53</td>\n",
              "      <td>132</td>\n",
              "      <td>7</td>\n",
              "      <td>Other</td>\n",
              "      <td>Private sector</td>\n",
              "      <td>Female</td>\n",
              "      <td>Scotland</td>\n",
              "      <td>65412.80</td>\n",
              "    </tr>\n",
              "    <tr>\n",
              "      <th>3</th>\n",
              "      <td>27</td>\n",
              "      <td>3920.23</td>\n",
              "      <td>59</td>\n",
              "      <td>8</td>\n",
              "      <td>A Level</td>\n",
              "      <td>Private sector</td>\n",
              "      <td>Female</td>\n",
              "      <td>South West</td>\n",
              "      <td>56271.76</td>\n",
              "    </tr>\n",
              "    <tr>\n",
              "      <th>4</th>\n",
              "      <td>50</td>\n",
              "      <td>3944.95</td>\n",
              "      <td>267</td>\n",
              "      <td>9</td>\n",
              "      <td>Degree</td>\n",
              "      <td>Private sector</td>\n",
              "      <td>Female</td>\n",
              "      <td>South West</td>\n",
              "      <td>64153.68</td>\n",
              "    </tr>\n",
              "  </tbody>\n",
              "</table>\n",
              "</div>\n",
              "      <button class=\"colab-df-convert\" onclick=\"convertToInteractive('df-01e1a7b7-1daa-43bd-866e-c733388c513a')\"\n",
              "              title=\"Convert this dataframe to an interactive table.\"\n",
              "              style=\"display:none;\">\n",
              "        \n",
              "  <svg xmlns=\"http://www.w3.org/2000/svg\" height=\"24px\"viewBox=\"0 0 24 24\"\n",
              "       width=\"24px\">\n",
              "    <path d=\"M0 0h24v24H0V0z\" fill=\"none\"/>\n",
              "    <path d=\"M18.56 5.44l.94 2.06.94-2.06 2.06-.94-2.06-.94-.94-2.06-.94 2.06-2.06.94zm-11 1L8.5 8.5l.94-2.06 2.06-.94-2.06-.94L8.5 2.5l-.94 2.06-2.06.94zm10 10l.94 2.06.94-2.06 2.06-.94-2.06-.94-.94-2.06-.94 2.06-2.06.94z\"/><path d=\"M17.41 7.96l-1.37-1.37c-.4-.4-.92-.59-1.43-.59-.52 0-1.04.2-1.43.59L10.3 9.45l-7.72 7.72c-.78.78-.78 2.05 0 2.83L4 21.41c.39.39.9.59 1.41.59.51 0 1.02-.2 1.41-.59l7.78-7.78 2.81-2.81c.8-.78.8-2.07 0-2.86zM5.41 20L4 18.59l7.72-7.72 1.47 1.35L5.41 20z\"/>\n",
              "  </svg>\n",
              "      </button>\n",
              "      \n",
              "  <style>\n",
              "    .colab-df-container {\n",
              "      display:flex;\n",
              "      flex-wrap:wrap;\n",
              "      gap: 12px;\n",
              "    }\n",
              "\n",
              "    .colab-df-convert {\n",
              "      background-color: #E8F0FE;\n",
              "      border: none;\n",
              "      border-radius: 50%;\n",
              "      cursor: pointer;\n",
              "      display: none;\n",
              "      fill: #1967D2;\n",
              "      height: 32px;\n",
              "      padding: 0 0 0 0;\n",
              "      width: 32px;\n",
              "    }\n",
              "\n",
              "    .colab-df-convert:hover {\n",
              "      background-color: #E2EBFA;\n",
              "      box-shadow: 0px 1px 2px rgba(60, 64, 67, 0.3), 0px 1px 3px 1px rgba(60, 64, 67, 0.15);\n",
              "      fill: #174EA6;\n",
              "    }\n",
              "\n",
              "    [theme=dark] .colab-df-convert {\n",
              "      background-color: #3B4455;\n",
              "      fill: #D2E3FC;\n",
              "    }\n",
              "\n",
              "    [theme=dark] .colab-df-convert:hover {\n",
              "      background-color: #434B5C;\n",
              "      box-shadow: 0px 1px 3px 1px rgba(0, 0, 0, 0.15);\n",
              "      filter: drop-shadow(0px 1px 2px rgba(0, 0, 0, 0.3));\n",
              "      fill: #FFFFFF;\n",
              "    }\n",
              "  </style>\n",
              "\n",
              "      <script>\n",
              "        const buttonEl =\n",
              "          document.querySelector('#df-01e1a7b7-1daa-43bd-866e-c733388c513a button.colab-df-convert');\n",
              "        buttonEl.style.display =\n",
              "          google.colab.kernel.accessAllowed ? 'block' : 'none';\n",
              "\n",
              "        async function convertToInteractive(key) {\n",
              "          const element = document.querySelector('#df-01e1a7b7-1daa-43bd-866e-c733388c513a');\n",
              "          const dataTable =\n",
              "            await google.colab.kernel.invokeFunction('convertToInteractive',\n",
              "                                                     [key], {});\n",
              "          if (!dataTable) return;\n",
              "\n",
              "          const docLinkHtml = 'Like what you see? Visit the ' +\n",
              "            '<a target=\"_blank\" href=https://colab.research.google.com/notebooks/data_table.ipynb>data table notebook</a>'\n",
              "            + ' to learn more about interactive tables.';\n",
              "          element.innerHTML = '';\n",
              "          dataTable['output_type'] = 'display_data';\n",
              "          await google.colab.output.renderOutput(dataTable, element);\n",
              "          const docLink = document.createElement('div');\n",
              "          docLink.innerHTML = docLinkHtml;\n",
              "          element.appendChild(docLink);\n",
              "        }\n",
              "      </script>\n",
              "    </div>\n",
              "  </div>\n",
              "  "
            ]
          },
          "metadata": {},
          "execution_count": 5
        }
      ]
    },
    {
      "cell_type": "code",
      "source": [
        "dataset['WorkType'].value_counts()"
      ],
      "metadata": {
        "id": "aksSbWInVJBy",
        "colab": {
          "base_uri": "https://localhost:8080/"
        },
        "outputId": "0d133082-b7aa-4910-bfc0-e206ea631dd2"
      },
      "execution_count": null,
      "outputs": [
        {
          "output_type": "execute_result",
          "data": {
            "text/plain": [
              "Private sector    589\n",
              "Unemployed        276\n",
              "Public Sector     125\n",
              "Self Employed      10\n",
              "Name: WorkType, dtype: int64"
            ]
          },
          "metadata": {},
          "execution_count": 6
        }
      ]
    },
    {
      "cell_type": "code",
      "source": [
        "dataset['Sex'].value_counts()"
      ],
      "metadata": {
        "id": "Hb0rkW0jVnfx",
        "colab": {
          "base_uri": "https://localhost:8080/"
        },
        "outputId": "1297d9c1-816e-4e6c-aa1e-eb44396de142"
      },
      "execution_count": null,
      "outputs": [
        {
          "output_type": "execute_result",
          "data": {
            "text/plain": [
              "Female    504\n",
              "Male      496\n",
              "Name: Sex, dtype: int64"
            ]
          },
          "metadata": {},
          "execution_count": 7
        }
      ]
    },
    {
      "cell_type": "code",
      "source": [
        "dataset['Education'].value_counts()"
      ],
      "metadata": {
        "id": "oAPpQW6uVpAr",
        "colab": {
          "base_uri": "https://localhost:8080/"
        },
        "outputId": "791378d9-b7a6-4877-e763-10e4fbb56b9b"
      },
      "execution_count": null,
      "outputs": [
        {
          "output_type": "execute_result",
          "data": {
            "text/plain": [
              "Degree     287\n",
              "A Level    150\n",
              "PhD        150\n",
              "Other      136\n",
              "Masters    113\n",
              "GCSE       110\n",
              "None        54\n",
              "Name: Education, dtype: int64"
            ]
          },
          "metadata": {},
          "execution_count": 8
        }
      ]
    },
    {
      "cell_type": "code",
      "source": [
        "dataset['Region'].value_counts()"
      ],
      "metadata": {
        "id": "IBXwhkO4Vtf6",
        "colab": {
          "base_uri": "https://localhost:8080/"
        },
        "outputId": "edd5e2ca-3fa2-4f15-8761-1b997cb16f04"
      },
      "execution_count": null,
      "outputs": [
        {
          "output_type": "execute_result",
          "data": {
            "text/plain": [
              "Scotland                    152\n",
              "London                      124\n",
              "South East                  120\n",
              "North West                   96\n",
              "East of England              87\n",
              "Yorkshire and The Humber     80\n",
              "South West                   73\n",
              "East Midlands                71\n",
              "West Midlands                63\n",
              "Wales                        48\n",
              "Northern Ireland             47\n",
              "North East                   39\n",
              "Name: Region, dtype: int64"
            ]
          },
          "metadata": {},
          "execution_count": 9
        }
      ]
    },
    {
      "cell_type": "code",
      "source": [],
      "metadata": {
        "id": "VmlgySL7sXtk"
      },
      "execution_count": null,
      "outputs": []
    },
    {
      "cell_type": "markdown",
      "source": [
        "Usin Pandas getDummies Converting categorical to numerical data"
      ],
      "metadata": {
        "id": "JA53D_h4cHlB"
      }
    },
    {
      "cell_type": "code",
      "source": [
        "# using .get_dummies function to convert\n",
        "# the categorical datatype to numerical\n",
        "# and storing the returned dataFrame\n",
        "# in a new variable df1\n",
        "worktype = pd.get_dummies(dataset['WorkType'])\n",
        "sex=pd.get_dummies(dataset['Sex'])\n",
        "region=pd.get_dummies(dataset['Region'])\n",
        "education=pd.get_dummies(dataset['Education'])\n",
        "\n",
        "# using pd.concat to concatenate the dataframes\n",
        "# df and df1 and storing the concatenated\n",
        "# dataFrame in df.\n",
        "dataset = pd.concat([dataset,worktype,sex,region,education], axis=1).reindex(dataset.index)\n",
        "\n",
        "# removing the column 'Purchased' from df\n",
        "# as it is of no use now.\n",
        "\n",
        "dataset.drop(['WorkType', 'Sex','Region' , 'Education'], inplace=True, axis=1)\n",
        "\n",
        "# printing df\n",
        "dataset.head()"
      ],
      "metadata": {
        "id": "gWVlulRuWtzi",
        "colab": {
          "base_uri": "https://localhost:8080/",
          "height": 331
        },
        "outputId": "d14053ba-dbc1-4a6d-f750-407b5bd6e65e"
      },
      "execution_count": null,
      "outputs": [
        {
          "output_type": "execute_result",
          "data": {
            "text/plain": [
              "   Age  SiteSpending  SiteTime  RecommendImpression    Salary  Private sector  \\\n",
              "0   20       1479.68        94                    1  15256.34               0   \n",
              "1   28        651.70        52                    2  17215.99               0   \n",
              "2   63       4014.53       132                    7  65412.80               1   \n",
              "3   27       3920.23        59                    8  56271.76               1   \n",
              "4   50       3944.95       267                    9  64153.68               1   \n",
              "\n",
              "   Public Sector  Self Employed  Unemployed  Female  ...  Wales  \\\n",
              "0              0              0           1       1  ...      0   \n",
              "1              0              0           1       0  ...      0   \n",
              "2              0              0           0       1  ...      0   \n",
              "3              0              0           0       1  ...      0   \n",
              "4              0              0           0       1  ...      0   \n",
              "\n",
              "   West Midlands  Yorkshire and The Humber  A Level  Degree  GCSE  Masters  \\\n",
              "0              0                         0        1       0     0        0   \n",
              "1              0                         0        1       0     0        0   \n",
              "2              0                         0        0       0     0        0   \n",
              "3              0                         0        1       0     0        0   \n",
              "4              0                         0        0       1     0        0   \n",
              "\n",
              "   None  Other  PhD  \n",
              "0     0      0    0  \n",
              "1     0      0    0  \n",
              "2     0      1    0  \n",
              "3     0      0    0  \n",
              "4     0      0    0  \n",
              "\n",
              "[5 rows x 30 columns]"
            ],
            "text/html": [
              "\n",
              "  <div id=\"df-bb48b003-0bb2-4763-b5aa-680493e651c8\">\n",
              "    <div class=\"colab-df-container\">\n",
              "      <div>\n",
              "<style scoped>\n",
              "    .dataframe tbody tr th:only-of-type {\n",
              "        vertical-align: middle;\n",
              "    }\n",
              "\n",
              "    .dataframe tbody tr th {\n",
              "        vertical-align: top;\n",
              "    }\n",
              "\n",
              "    .dataframe thead th {\n",
              "        text-align: right;\n",
              "    }\n",
              "</style>\n",
              "<table border=\"1\" class=\"dataframe\">\n",
              "  <thead>\n",
              "    <tr style=\"text-align: right;\">\n",
              "      <th></th>\n",
              "      <th>Age</th>\n",
              "      <th>SiteSpending</th>\n",
              "      <th>SiteTime</th>\n",
              "      <th>RecommendImpression</th>\n",
              "      <th>Salary</th>\n",
              "      <th>Private sector</th>\n",
              "      <th>Public Sector</th>\n",
              "      <th>Self Employed</th>\n",
              "      <th>Unemployed</th>\n",
              "      <th>Female</th>\n",
              "      <th>...</th>\n",
              "      <th>Wales</th>\n",
              "      <th>West Midlands</th>\n",
              "      <th>Yorkshire and The Humber</th>\n",
              "      <th>A Level</th>\n",
              "      <th>Degree</th>\n",
              "      <th>GCSE</th>\n",
              "      <th>Masters</th>\n",
              "      <th>None</th>\n",
              "      <th>Other</th>\n",
              "      <th>PhD</th>\n",
              "    </tr>\n",
              "  </thead>\n",
              "  <tbody>\n",
              "    <tr>\n",
              "      <th>0</th>\n",
              "      <td>20</td>\n",
              "      <td>1479.68</td>\n",
              "      <td>94</td>\n",
              "      <td>1</td>\n",
              "      <td>15256.34</td>\n",
              "      <td>0</td>\n",
              "      <td>0</td>\n",
              "      <td>0</td>\n",
              "      <td>1</td>\n",
              "      <td>1</td>\n",
              "      <td>...</td>\n",
              "      <td>0</td>\n",
              "      <td>0</td>\n",
              "      <td>0</td>\n",
              "      <td>1</td>\n",
              "      <td>0</td>\n",
              "      <td>0</td>\n",
              "      <td>0</td>\n",
              "      <td>0</td>\n",
              "      <td>0</td>\n",
              "      <td>0</td>\n",
              "    </tr>\n",
              "    <tr>\n",
              "      <th>1</th>\n",
              "      <td>28</td>\n",
              "      <td>651.70</td>\n",
              "      <td>52</td>\n",
              "      <td>2</td>\n",
              "      <td>17215.99</td>\n",
              "      <td>0</td>\n",
              "      <td>0</td>\n",
              "      <td>0</td>\n",
              "      <td>1</td>\n",
              "      <td>0</td>\n",
              "      <td>...</td>\n",
              "      <td>0</td>\n",
              "      <td>0</td>\n",
              "      <td>0</td>\n",
              "      <td>1</td>\n",
              "      <td>0</td>\n",
              "      <td>0</td>\n",
              "      <td>0</td>\n",
              "      <td>0</td>\n",
              "      <td>0</td>\n",
              "      <td>0</td>\n",
              "    </tr>\n",
              "    <tr>\n",
              "      <th>2</th>\n",
              "      <td>63</td>\n",
              "      <td>4014.53</td>\n",
              "      <td>132</td>\n",
              "      <td>7</td>\n",
              "      <td>65412.80</td>\n",
              "      <td>1</td>\n",
              "      <td>0</td>\n",
              "      <td>0</td>\n",
              "      <td>0</td>\n",
              "      <td>1</td>\n",
              "      <td>...</td>\n",
              "      <td>0</td>\n",
              "      <td>0</td>\n",
              "      <td>0</td>\n",
              "      <td>0</td>\n",
              "      <td>0</td>\n",
              "      <td>0</td>\n",
              "      <td>0</td>\n",
              "      <td>0</td>\n",
              "      <td>1</td>\n",
              "      <td>0</td>\n",
              "    </tr>\n",
              "    <tr>\n",
              "      <th>3</th>\n",
              "      <td>27</td>\n",
              "      <td>3920.23</td>\n",
              "      <td>59</td>\n",
              "      <td>8</td>\n",
              "      <td>56271.76</td>\n",
              "      <td>1</td>\n",
              "      <td>0</td>\n",
              "      <td>0</td>\n",
              "      <td>0</td>\n",
              "      <td>1</td>\n",
              "      <td>...</td>\n",
              "      <td>0</td>\n",
              "      <td>0</td>\n",
              "      <td>0</td>\n",
              "      <td>1</td>\n",
              "      <td>0</td>\n",
              "      <td>0</td>\n",
              "      <td>0</td>\n",
              "      <td>0</td>\n",
              "      <td>0</td>\n",
              "      <td>0</td>\n",
              "    </tr>\n",
              "    <tr>\n",
              "      <th>4</th>\n",
              "      <td>50</td>\n",
              "      <td>3944.95</td>\n",
              "      <td>267</td>\n",
              "      <td>9</td>\n",
              "      <td>64153.68</td>\n",
              "      <td>1</td>\n",
              "      <td>0</td>\n",
              "      <td>0</td>\n",
              "      <td>0</td>\n",
              "      <td>1</td>\n",
              "      <td>...</td>\n",
              "      <td>0</td>\n",
              "      <td>0</td>\n",
              "      <td>0</td>\n",
              "      <td>0</td>\n",
              "      <td>1</td>\n",
              "      <td>0</td>\n",
              "      <td>0</td>\n",
              "      <td>0</td>\n",
              "      <td>0</td>\n",
              "      <td>0</td>\n",
              "    </tr>\n",
              "  </tbody>\n",
              "</table>\n",
              "<p>5 rows × 30 columns</p>\n",
              "</div>\n",
              "      <button class=\"colab-df-convert\" onclick=\"convertToInteractive('df-bb48b003-0bb2-4763-b5aa-680493e651c8')\"\n",
              "              title=\"Convert this dataframe to an interactive table.\"\n",
              "              style=\"display:none;\">\n",
              "        \n",
              "  <svg xmlns=\"http://www.w3.org/2000/svg\" height=\"24px\"viewBox=\"0 0 24 24\"\n",
              "       width=\"24px\">\n",
              "    <path d=\"M0 0h24v24H0V0z\" fill=\"none\"/>\n",
              "    <path d=\"M18.56 5.44l.94 2.06.94-2.06 2.06-.94-2.06-.94-.94-2.06-.94 2.06-2.06.94zm-11 1L8.5 8.5l.94-2.06 2.06-.94-2.06-.94L8.5 2.5l-.94 2.06-2.06.94zm10 10l.94 2.06.94-2.06 2.06-.94-2.06-.94-.94-2.06-.94 2.06-2.06.94z\"/><path d=\"M17.41 7.96l-1.37-1.37c-.4-.4-.92-.59-1.43-.59-.52 0-1.04.2-1.43.59L10.3 9.45l-7.72 7.72c-.78.78-.78 2.05 0 2.83L4 21.41c.39.39.9.59 1.41.59.51 0 1.02-.2 1.41-.59l7.78-7.78 2.81-2.81c.8-.78.8-2.07 0-2.86zM5.41 20L4 18.59l7.72-7.72 1.47 1.35L5.41 20z\"/>\n",
              "  </svg>\n",
              "      </button>\n",
              "      \n",
              "  <style>\n",
              "    .colab-df-container {\n",
              "      display:flex;\n",
              "      flex-wrap:wrap;\n",
              "      gap: 12px;\n",
              "    }\n",
              "\n",
              "    .colab-df-convert {\n",
              "      background-color: #E8F0FE;\n",
              "      border: none;\n",
              "      border-radius: 50%;\n",
              "      cursor: pointer;\n",
              "      display: none;\n",
              "      fill: #1967D2;\n",
              "      height: 32px;\n",
              "      padding: 0 0 0 0;\n",
              "      width: 32px;\n",
              "    }\n",
              "\n",
              "    .colab-df-convert:hover {\n",
              "      background-color: #E2EBFA;\n",
              "      box-shadow: 0px 1px 2px rgba(60, 64, 67, 0.3), 0px 1px 3px 1px rgba(60, 64, 67, 0.15);\n",
              "      fill: #174EA6;\n",
              "    }\n",
              "\n",
              "    [theme=dark] .colab-df-convert {\n",
              "      background-color: #3B4455;\n",
              "      fill: #D2E3FC;\n",
              "    }\n",
              "\n",
              "    [theme=dark] .colab-df-convert:hover {\n",
              "      background-color: #434B5C;\n",
              "      box-shadow: 0px 1px 3px 1px rgba(0, 0, 0, 0.15);\n",
              "      filter: drop-shadow(0px 1px 2px rgba(0, 0, 0, 0.3));\n",
              "      fill: #FFFFFF;\n",
              "    }\n",
              "  </style>\n",
              "\n",
              "      <script>\n",
              "        const buttonEl =\n",
              "          document.querySelector('#df-bb48b003-0bb2-4763-b5aa-680493e651c8 button.colab-df-convert');\n",
              "        buttonEl.style.display =\n",
              "          google.colab.kernel.accessAllowed ? 'block' : 'none';\n",
              "\n",
              "        async function convertToInteractive(key) {\n",
              "          const element = document.querySelector('#df-bb48b003-0bb2-4763-b5aa-680493e651c8');\n",
              "          const dataTable =\n",
              "            await google.colab.kernel.invokeFunction('convertToInteractive',\n",
              "                                                     [key], {});\n",
              "          if (!dataTable) return;\n",
              "\n",
              "          const docLinkHtml = 'Like what you see? Visit the ' +\n",
              "            '<a target=\"_blank\" href=https://colab.research.google.com/notebooks/data_table.ipynb>data table notebook</a>'\n",
              "            + ' to learn more about interactive tables.';\n",
              "          element.innerHTML = '';\n",
              "          dataTable['output_type'] = 'display_data';\n",
              "          await google.colab.output.renderOutput(dataTable, element);\n",
              "          const docLink = document.createElement('div');\n",
              "          docLink.innerHTML = docLinkHtml;\n",
              "          element.appendChild(docLink);\n",
              "        }\n",
              "      </script>\n",
              "    </div>\n",
              "  </div>\n",
              "  "
            ]
          },
          "metadata": {},
          "execution_count": 10
        }
      ]
    },
    {
      "cell_type": "markdown",
      "source": [
        "Splitting the data to train and tests set"
      ],
      "metadata": {
        "id": "g3M3nouUrvB6"
      }
    },
    {
      "cell_type": "code",
      "source": [
        "X = dataset.drop(\"Salary\", axis=1)\n",
        "\n",
        "# Create label\n",
        "Y = dataset[\"Salary\"]\n",
        "X_train, X_test, y_train, y_test = train_test_split(X, Y, test_size=0.2)\n",
        "X_train.shape, X_test.shape, y_train.shape, y_test.shape"
      ],
      "metadata": {
        "colab": {
          "base_uri": "https://localhost:8080/"
        },
        "id": "HdK0aaOctSaz",
        "outputId": "3aa7eb31-e639-4bef-ca65-2da92804ff0c"
      },
      "execution_count": null,
      "outputs": [
        {
          "output_type": "execute_result",
          "data": {
            "text/plain": [
              "((800, 29), (200, 29), (800,), (200,))"
            ]
          },
          "metadata": {},
          "execution_count": 11
        }
      ]
    },
    {
      "cell_type": "code",
      "source": [
        "regressionscore={}"
      ],
      "metadata": {
        "id": "qSZZsKLAJTSi"
      },
      "execution_count": null,
      "outputs": []
    },
    {
      "cell_type": "markdown",
      "source": [
        "Fitting and predicting Linear regression\n"
      ],
      "metadata": {
        "id": "JUJfRkJX55T6"
      }
    },
    {
      "cell_type": "code",
      "source": [
        "lin_reg_model = LinearRegression()\n",
        "#Now we can fit the model to our dataset\n",
        "lin_reg_model.fit(X_train,y_train)\n",
        "Y_pred = lin_reg_model.predict(X_test)\n",
        "test_error_score =r2_score(y_test, Y_pred)\n",
        "regressionscore['linear regression']=r2_score(y_test, Y_pred);\n",
        "print(\"R squared: \", test_error_score)\n",
        "meanabs = mean_absolute_error(y_test, Y_pred)\n",
        "meansqrt = mean_squared_error(y_test, Y_pred)\n",
        "print(\"Mean sqrt:\",np.sqrt(meansqrt))\n",
        "print(\"mean abs:\",meanabs)\n",
        "print('Train Score: ',lin_reg_model.score(X_train, y_train))\n",
        "print('Test Score: ', lin_reg_model.score(X_test, y_test))"
      ],
      "metadata": {
        "colab": {
          "base_uri": "https://localhost:8080/"
        },
        "id": "PGTc9G7D59eC",
        "outputId": "d91ce3cb-6f22-48b7-e2f9-dd0ce24fb754"
      },
      "execution_count": null,
      "outputs": [
        {
          "output_type": "stream",
          "name": "stdout",
          "text": [
            "R squared:  0.8011249007354655\n",
            "Mean sqrt: 19285.29118153109\n",
            "mean abs: 14523.313858512127\n",
            "Train Score:  0.8396761951335912\n",
            "Test Score:  0.8011249007354655\n"
          ]
        }
      ]
    },
    {
      "cell_type": "code",
      "source": [
        "sns.regplot(x=y_test, y=Y_pred, scatter_kws={\"color\": \"green\"}, line_kws={\"color\": \"blue\"})"
      ],
      "metadata": {
        "id": "9iAQ2wX37djy",
        "colab": {
          "base_uri": "https://localhost:8080/",
          "height": 466
        },
        "outputId": "6a3c300b-369d-48d2-90f3-d9c92d032735"
      },
      "execution_count": null,
      "outputs": [
        {
          "output_type": "execute_result",
          "data": {
            "text/plain": [
              "<Axes: xlabel='Salary'>"
            ]
          },
          "metadata": {},
          "execution_count": 14
        },
        {
          "output_type": "display_data",
          "data": {
            "text/plain": [
              "<Figure size 640x480 with 1 Axes>"
            ],
            "image/png": "[encoded data removed]"
          },
          "metadata": {}
        }
      ]
    },
    {
      "cell_type": "markdown",
      "source": [
        "Polynomial Regression\n"
      ],
      "metadata": {
        "id": "tAj2_I-wHCv7"
      }
    },
    {
      "cell_type": "code",
      "source": [
        "from sklearn.preprocessing import PolynomialFeatures\n",
        "poly_regs= PolynomialFeatures(degree=2)\n",
        "x_poly= poly_regs.fit_transform(X_train)\n",
        "lin_reg_2 =LinearRegression()\n",
        "lin_reg_2.fit(x_poly, y_train)\n",
        "polytest= poly_regs.fit_transform(X_test);\n",
        "Y_pred = lin_reg_2.predict(polytest)\n",
        "test_error_score =r2_score(y_test, Y_pred)\n",
        "regressionscore['Polynomial Regression']=r2_score(y_test, Y_pred)\n",
        "print(\"R squared Test: \", test_error_score)\n",
        "meanabs = mean_absolute_error(y_test, Y_pred)\n",
        "meansqrt = mean_squared_error(y_test, Y_pred)\n",
        "print(\"Mean sqrt:\",np.sqrt(meansqrt))\n",
        "print(\"mean abs:\",meanabs)\n",
        "print('Train Score: ',lin_reg_2.score(x_poly, y_train))\n",
        "print('Test Score: ', lin_reg_2.score(polytest, y_test))\n"
      ],
      "metadata": {
        "colab": {
          "base_uri": "https://localhost:8080/"
        },
        "id": "e5AZ5eqWDDSB",
        "outputId": "44f4cc28-761f-48ae-b84c-b6089a6c2c07"
      },
      "execution_count": null,
      "outputs": [
        {
          "output_type": "stream",
          "name": "stdout",
          "text": [
            "R squared Test:  -566283.8709876187\n",
            "Mean sqrt: 32542691.961097293\n",
            "mean abs: 3262867.9495707946\n",
            "Train Score:  0.937090078126569\n",
            "Test Score:  -566283.8709876187\n"
          ]
        }
      ]
    },
    {
      "cell_type": "markdown",
      "source": [
        "Decision tree Regressor"
      ],
      "metadata": {
        "id": "iCQ5i1GPMWiS"
      }
    },
    {
      "cell_type": "code",
      "source": [
        "import numpy as np\n",
        "from sklearn.tree import DecisionTreeRegressor\n",
        "import matplotlib.pyplot as plt\n",
        "\n",
        "\n",
        "\n",
        "# Fit regression model\n",
        "regr_1 = DecisionTreeRegressor()\n",
        "regr_1.fit(X_train, y_train)\n",
        "\n",
        "# Predict\n",
        "\n",
        "y_1 = regr_1.predict(X_test)\n",
        "\n",
        "print(\"R squared: \", r2_score(y_test, y_1))\n",
        "regressionscore['Decision tree Regression']=r2_score(y_test, y_1)\n",
        "meanabs = mean_absolute_error(y_test, Y_pred)\n",
        "meansqrt = mean_squared_error(y_test, Y_pred)\n",
        "print(\"Mean sqrt:\",np.sqrt(meansqrt))\n",
        "print(\"mean abs:\",meanabs)\n",
        "print('Train Score: ', regr_1.score(X_train, y_train))\n",
        "print('Test Score: ', regr_1.score(X_test, y_test))\n"
      ],
      "metadata": {
        "colab": {
          "base_uri": "https://localhost:8080/"
        },
        "id": "6hM1BindMaYj",
        "outputId": "04f1265a-31d5-4eaa-bc78-592a0de25baa"
      },
      "execution_count": null,
      "outputs": [
        {
          "output_type": "stream",
          "name": "stdout",
          "text": [
            "R squared:  0.8591373098086883\n",
            "Mean sqrt: 32542691.961097293\n",
            "mean abs: 3262867.9495707946\n",
            "Train Score:  1.0\n",
            "Test Score:  0.8591373098086883\n"
          ]
        }
      ]
    },
    {
      "cell_type": "code",
      "source": [
        "model_compare = pd.DataFrame(regressionscore, index=[\"R Sqaure Score\"])\n",
        "model_compare.T.plot.bar()"
      ],
      "metadata": {
        "colab": {
          "base_uri": "https://localhost:8080/",
          "height": 610
        },
        "id": "0ShES2lJJ76D",
        "outputId": "30d3a1eb-f85f-4ffd-c7ae-206477c2bfbd"
      },
      "execution_count": null,
      "outputs": [
        {
          "output_type": "execute_result",
          "data": {
            "text/plain": [
              "<Axes: >"
            ]
          },
          "metadata": {},
          "execution_count": 17
        },
        {
          "output_type": "display_data",
          "data": {
            "text/plain": [
              "<Figure size 640x480 with 1 Axes>"
            ],
            "image/png": "[encoded data removed]"
          },
          "metadata": {}
        }
      ]
    },
    {
      "cell_type": "markdown",
      "source": [
        "Classification"
      ],
      "metadata": {
        "id": "c8xUK-Bmtxcb"
      }
    },
    {
      "cell_type": "code",
      "source": [
        "dataset_classification = pd.read_csv(\"Comp1801CourseworkDataResit.csv\")"
      ],
      "metadata": {
        "id": "irGP3h6mt0c6"
      },
      "execution_count": null,
      "outputs": []
    },
    {
      "cell_type": "code",
      "source": [
        "rng = np.random.default_rng(0)\n",
        "dataset_classification = dataset_classification.iloc[rng.permutation(len(dataset_classification))].reset_index(drop=True)"
      ],
      "metadata": {
        "id": "97SAhVUCuCxk"
      },
      "execution_count": null,
      "outputs": []
    },
    {
      "cell_type": "markdown",
      "source": [
        "Converting the salary into binary form"
      ],
      "metadata": {
        "id": "-CvZQKu3t7-e"
      }
    },
    {
      "cell_type": "code",
      "source": [
        "dataset_classification[\"Salary\"] = dataset_classification[\"Salary\"].apply(lambda x: 1 if x >= 40000.00 else 0)\n",
        "#dataset_classification.drop([\"Salary\"], axis=1, inplace=True)\n",
        "dataset_classification\n"
      ],
      "metadata": {
        "id": "H5QodKF4uRGt",
        "colab": {
          "base_uri": "https://localhost:8080/",
          "height": 419
        },
        "outputId": "177d9dbc-22fe-468a-bf78-fdf0e1680ace"
      },
      "execution_count": null,
      "outputs": [
        {
          "output_type": "execute_result",
          "data": {
            "text/plain": [
              "     Age  SiteSpending  SiteTime  RecommendImpression Education  \\\n",
              "0     20       1479.68        94                    1   A Level   \n",
              "1     28        651.70        52                    2   A Level   \n",
              "2     63       4014.53       132                    7     Other   \n",
              "3     27       3920.23        59                    8   A Level   \n",
              "4     50       3944.95       267                    9    Degree   \n",
              "..   ...           ...       ...                  ...       ...   \n",
              "995   28         25.17        59                    0       PhD   \n",
              "996   55       2934.87       247                   10    Degree   \n",
              "997   31       3033.01       202                    6    Degree   \n",
              "998   33        500.50       196                    4   A Level   \n",
              "999   29       1670.65        69                    0       PhD   \n",
              "\n",
              "           WorkType     Sex                    Region  Salary  \n",
              "0        Unemployed  Female             East Midlands       0  \n",
              "1        Unemployed    Male                North West       0  \n",
              "2    Private sector  Female                  Scotland       1  \n",
              "3    Private sector  Female                South West       1  \n",
              "4    Private sector  Female                South West       1  \n",
              "..              ...     ...                       ...     ...  \n",
              "995   Public Sector  Female           East of England       0  \n",
              "996  Private sector    Male  Yorkshire and The Humber       1  \n",
              "997  Private sector    Male                North East       1  \n",
              "998  Private sector  Female                  Scotland       1  \n",
              "999      Unemployed    Male             East Midlands       0  \n",
              "\n",
              "[1000 rows x 9 columns]"
            ],
            "text/html": [
              "\n",
              "  <div id=\"df-406c62dc-fee1-4621-bfa0-9a555138db42\">\n",
              "    <div class=\"colab-df-container\">\n",
              "      <div>\n",
              "<style scoped>\n",
              "    .dataframe tbody tr th:only-of-type {\n",
              "        vertical-align: middle;\n",
              "    }\n",
              "\n",
              "    .dataframe tbody tr th {\n",
              "        vertical-align: top;\n",
              "    }\n",
              "\n",
              "    .dataframe thead th {\n",
              "        text-align: right;\n",
              "    }\n",
              "</style>\n",
              "<table border=\"1\" class=\"dataframe\">\n",
              "  <thead>\n",
              "    <tr style=\"text-align: right;\">\n",
              "      <th></th>\n",
              "      <th>Age</th>\n",
              "      <th>SiteSpending</th>\n",
              "      <th>SiteTime</th>\n",
              "      <th>RecommendImpression</th>\n",
              "      <th>Education</th>\n",
              "      <th>WorkType</th>\n",
              "      <th>Sex</th>\n",
              "      <th>Region</th>\n",
              "      <th>Salary</th>\n",
              "    </tr>\n",
              "  </thead>\n",
              "  <tbody>\n",
              "    <tr>\n",
              "      <th>0</th>\n",
              "      <td>20</td>\n",
              "      <td>1479.68</td>\n",
              "      <td>94</td>\n",
              "      <td>1</td>\n",
              "      <td>A Level</td>\n",
              "      <td>Unemployed</td>\n",
              "      <td>Female</td>\n",
              "      <td>East Midlands</td>\n",
              "      <td>0</td>\n",
              "    </tr>\n",
              "    <tr>\n",
              "      <th>1</th>\n",
              "      <td>28</td>\n",
              "      <td>651.70</td>\n",
              "      <td>52</td>\n",
              "      <td>2</td>\n",
              "      <td>A Level</td>\n",
              "      <td>Unemployed</td>\n",
              "      <td>Male</td>\n",
              "      <td>North West</td>\n",
              "      <td>0</td>\n",
              "    </tr>\n",
              "    <tr>\n",
              "      <th>2</th>\n",
              "      <td>63</td>\n",
              "      <td>4014.53</td>\n",
              "      <td>132</td>\n",
              "      <td>7</td>\n",
              "      <td>Other</td>\n",
              "      <td>Private sector</td>\n",
              "      <td>Female</td>\n",
              "      <td>Scotland</td>\n",
              "      <td>1</td>\n",
              "    </tr>\n",
              "    <tr>\n",
              "      <th>3</th>\n",
              "      <td>27</td>\n",
              "      <td>3920.23</td>\n",
              "      <td>59</td>\n",
              "      <td>8</td>\n",
              "      <td>A Level</td>\n",
              "      <td>Private sector</td>\n",
              "      <td>Female</td>\n",
              "      <td>South West</td>\n",
              "      <td>1</td>\n",
              "    </tr>\n",
              "    <tr>\n",
              "      <th>4</th>\n",
              "      <td>50</td>\n",
              "      <td>3944.95</td>\n",
              "      <td>267</td>\n",
              "      <td>9</td>\n",
              "      <td>Degree</td>\n",
              "      <td>Private sector</td>\n",
              "      <td>Female</td>\n",
              "      <td>South West</td>\n",
              "      <td>1</td>\n",
              "    </tr>\n",
              "    <tr>\n",
              "      <th>...</th>\n",
              "      <td>...</td>\n",
              "      <td>...</td>\n",
              "      <td>...</td>\n",
              "      <td>...</td>\n",
              "      <td>...</td>\n",
              "      <td>...</td>\n",
              "      <td>...</td>\n",
              "      <td>...</td>\n",
              "      <td>...</td>\n",
              "    </tr>\n",
              "    <tr>\n",
              "      <th>995</th>\n",
              "      <td>28</td>\n",
              "      <td>25.17</td>\n",
              "      <td>59</td>\n",
              "      <td>0</td>\n",
              "      <td>PhD</td>\n",
              "      <td>Public Sector</td>\n",
              "      <td>Female</td>\n",
              "      <td>East of England</td>\n",
              "      <td>0</td>\n",
              "    </tr>\n",
              "    <tr>\n",
              "      <th>996</th>\n",
              "      <td>55</td>\n",
              "      <td>2934.87</td>\n",
              "      <td>247</td>\n",
              "      <td>10</td>\n",
              "      <td>Degree</td>\n",
              "      <td>Private sector</td>\n",
              "      <td>Male</td>\n",
              "      <td>Yorkshire and The Humber</td>\n",
              "      <td>1</td>\n",
              "    </tr>\n",
              "    <tr>\n",
              "      <th>997</th>\n",
              "      <td>31</td>\n",
              "      <td>3033.01</td>\n",
              "      <td>202</td>\n",
              "      <td>6</td>\n",
              "      <td>Degree</td>\n",
              "      <td>Private sector</td>\n",
              "      <td>Male</td>\n",
              "      <td>North East</td>\n",
              "      <td>1</td>\n",
              "    </tr>\n",
              "    <tr>\n",
              "      <th>998</th>\n",
              "      <td>33</td>\n",
              "      <td>500.50</td>\n",
              "      <td>196</td>\n",
              "      <td>4</td>\n",
              "      <td>A Level</td>\n",
              "      <td>Private sector</td>\n",
              "      <td>Female</td>\n",
              "      <td>Scotland</td>\n",
              "      <td>1</td>\n",
              "    </tr>\n",
              "    <tr>\n",
              "      <th>999</th>\n",
              "      <td>29</td>\n",
              "      <td>1670.65</td>\n",
              "      <td>69</td>\n",
              "      <td>0</td>\n",
              "      <td>PhD</td>\n",
              "      <td>Unemployed</td>\n",
              "      <td>Male</td>\n",
              "      <td>East Midlands</td>\n",
              "      <td>0</td>\n",
              "    </tr>\n",
              "  </tbody>\n",
              "</table>\n",
              "<p>1000 rows × 9 columns</p>\n",
              "</div>\n",
              "      <button class=\"colab-df-convert\" onclick=\"convertToInteractive('df-406c62dc-fee1-4621-bfa0-9a555138db42')\"\n",
              "              title=\"Convert this dataframe to an interactive table.\"\n",
              "              style=\"display:none;\">\n",
              "        \n",
              "  <svg xmlns=\"http://www.w3.org/2000/svg\" height=\"24px\"viewBox=\"0 0 24 24\"\n",
              "       width=\"24px\">\n",
              "    <path d=\"M0 0h24v24H0V0z\" fill=\"none\"/>\n",
              "    <path d=\"M18.56 5.44l.94 2.06.94-2.06 2.06-.94-2.06-.94-.94-2.06-.94 2.06-2.06.94zm-11 1L8.5 8.5l.94-2.06 2.06-.94-2.06-.94L8.5 2.5l-.94 2.06-2.06.94zm10 10l.94 2.06.94-2.06 2.06-.94-2.06-.94-.94-2.06-.94 2.06-2.06.94z\"/><path d=\"M17.41 7.96l-1.37-1.37c-.4-.4-.92-.59-1.43-.59-.52 0-1.04.2-1.43.59L10.3 9.45l-7.72 7.72c-.78.78-.78 2.05 0 2.83L4 21.41c.39.39.9.59 1.41.59.51 0 1.02-.2 1.41-.59l7.78-7.78 2.81-2.81c.8-.78.8-2.07 0-2.86zM5.41 20L4 18.59l7.72-7.72 1.47 1.35L5.41 20z\"/>\n",
              "  </svg>\n",
              "      </button>\n",
              "      \n",
              "  <style>\n",
              "    .colab-df-container {\n",
              "      display:flex;\n",
              "      flex-wrap:wrap;\n",
              "      gap: 12px;\n",
              "    }\n",
              "\n",
              "    .colab-df-convert {\n",
              "      background-color: #E8F0FE;\n",
              "      border: none;\n",
              "      border-radius: 50%;\n",
              "      cursor: pointer;\n",
              "      display: none;\n",
              "      fill: #1967D2;\n",
              "      height: 32px;\n",
              "      padding: 0 0 0 0;\n",
              "      width: 32px;\n",
              "    }\n",
              "\n",
              "    .colab-df-convert:hover {\n",
              "      background-color: #E2EBFA;\n",
              "      box-shadow: 0px 1px 2px rgba(60, 64, 67, 0.3), 0px 1px 3px 1px rgba(60, 64, 67, 0.15);\n",
              "      fill: #174EA6;\n",
              "    }\n",
              "\n",
              "    [theme=dark] .colab-df-convert {\n",
              "      background-color: #3B4455;\n",
              "      fill: #D2E3FC;\n",
              "    }\n",
              "\n",
              "    [theme=dark] .colab-df-convert:hover {\n",
              "      background-color: #434B5C;\n",
              "      box-shadow: 0px 1px 3px 1px rgba(0, 0, 0, 0.15);\n",
              "      filter: drop-shadow(0px 1px 2px rgba(0, 0, 0, 0.3));\n",
              "      fill: #FFFFFF;\n",
              "    }\n",
              "  </style>\n",
              "\n",
              "      <script>\n",
              "        const buttonEl =\n",
              "          document.querySelector('#df-406c62dc-fee1-4621-bfa0-9a555138db42 button.colab-df-convert');\n",
              "        buttonEl.style.display =\n",
              "          google.colab.kernel.accessAllowed ? 'block' : 'none';\n",
              "\n",
              "        async function convertToInteractive(key) {\n",
              "          const element = document.querySelector('#df-406c62dc-fee1-4621-bfa0-9a555138db42');\n",
              "          const dataTable =\n",
              "            await google.colab.kernel.invokeFunction('convertToInteractive',\n",
              "                                                     [key], {});\n",
              "          if (!dataTable) return;\n",
              "\n",
              "          const docLinkHtml = 'Like what you see? Visit the ' +\n",
              "            '<a target=\"_blank\" href=https://colab.research.google.com/notebooks/data_table.ipynb>data table notebook</a>'\n",
              "            + ' to learn more about interactive tables.';\n",
              "          element.innerHTML = '';\n",
              "          dataTable['output_type'] = 'display_data';\n",
              "          await google.colab.output.renderOutput(dataTable, element);\n",
              "          const docLink = document.createElement('div');\n",
              "          docLink.innerHTML = docLinkHtml;\n",
              "          element.appendChild(docLink);\n",
              "        }\n",
              "      </script>\n",
              "    </div>\n",
              "  </div>\n",
              "  "
            ]
          },
          "metadata": {},
          "execution_count": 20
        }
      ]
    },
    {
      "cell_type": "markdown",
      "source": [
        "Converting categorical data to numeric"
      ],
      "metadata": {
        "id": "SLuXgpOsvoPn"
      }
    },
    {
      "cell_type": "code",
      "source": [
        "worktype = pd.get_dummies(dataset_classification['WorkType'])\n",
        "sex=pd.get_dummies(dataset_classification['Sex'])\n",
        "region=pd.get_dummies(dataset_classification['Region'])\n",
        "education=pd.get_dummies(dataset_classification['Education'])\n",
        "\n",
        "# using pd.concat to concatenate the dataframes\n",
        "# df and df1 and storing the concatenated\n",
        "# dataFrame in df.\n",
        "dataset_classification = pd.concat([dataset_classification,worktype,sex,region,education], axis=1).reindex(dataset_classification.index)\n",
        "\n",
        "# removing the column 'Purchased' from df\n",
        "# as it is of no use now.\n",
        "\n",
        "dataset_classification.drop(['WorkType', 'Sex','Region' , 'Education'], inplace=True, axis=1)\n",
        "\n",
        "# printing df\n",
        "\n",
        "# Create feature Matrix\n",
        "X = dataset_classification.drop(\"Salary\", axis=1)\n",
        "\n",
        "# Create label\n",
        "Y = dataset_classification[\"Salary\"]\n",
        "dataset_classification.head()"
      ],
      "metadata": {
        "id": "DDsxfmXSvr5c",
        "colab": {
          "base_uri": "https://localhost:8080/",
          "height": 331
        },
        "outputId": "55a30353-4c6d-4a96-8609-9e7c1b2a715b"
      },
      "execution_count": null,
      "outputs": [
        {
          "output_type": "execute_result",
          "data": {
            "text/plain": [
              "   Age  SiteSpending  SiteTime  RecommendImpression  Salary  Private sector  \\\n",
              "0   20       1479.68        94                    1       0               0   \n",
              "1   28        651.70        52                    2       0               0   \n",
              "2   63       4014.53       132                    7       1               1   \n",
              "3   27       3920.23        59                    8       1               1   \n",
              "4   50       3944.95       267                    9       1               1   \n",
              "\n",
              "   Public Sector  Self Employed  Unemployed  Female  ...  Wales  \\\n",
              "0              0              0           1       1  ...      0   \n",
              "1              0              0           1       0  ...      0   \n",
              "2              0              0           0       1  ...      0   \n",
              "3              0              0           0       1  ...      0   \n",
              "4              0              0           0       1  ...      0   \n",
              "\n",
              "   West Midlands  Yorkshire and The Humber  A Level  Degree  GCSE  Masters  \\\n",
              "0              0                         0        1       0     0        0   \n",
              "1              0                         0        1       0     0        0   \n",
              "2              0                         0        0       0     0        0   \n",
              "3              0                         0        1       0     0        0   \n",
              "4              0                         0        0       1     0        0   \n",
              "\n",
              "   None  Other  PhD  \n",
              "0     0      0    0  \n",
              "1     0      0    0  \n",
              "2     0      1    0  \n",
              "3     0      0    0  \n",
              "4     0      0    0  \n",
              "\n",
              "[5 rows x 30 columns]"
            ],
            "text/html": [
              "\n",
              "  <div id=\"df-ea6e5223-e294-4fcc-af0d-7a371fcbeb74\">\n",
              "    <div class=\"colab-df-container\">\n",
              "      <div>\n",
              "<style scoped>\n",
              "    .dataframe tbody tr th:only-of-type {\n",
              "        vertical-align: middle;\n",
              "    }\n",
              "\n",
              "    .dataframe tbody tr th {\n",
              "        vertical-align: top;\n",
              "    }\n",
              "\n",
              "    .dataframe thead th {\n",
              "        text-align: right;\n",
              "    }\n",
              "</style>\n",
              "<table border=\"1\" class=\"dataframe\">\n",
              "  <thead>\n",
              "    <tr style=\"text-align: right;\">\n",
              "      <th></th>\n",
              "      <th>Age</th>\n",
              "      <th>SiteSpending</th>\n",
              "      <th>SiteTime</th>\n",
              "      <th>RecommendImpression</th>\n",
              "      <th>Salary</th>\n",
              "      <th>Private sector</th>\n",
              "      <th>Public Sector</th>\n",
              "      <th>Self Employed</th>\n",
              "      <th>Unemployed</th>\n",
              "      <th>Female</th>\n",
              "      <th>...</th>\n",
              "      <th>Wales</th>\n",
              "      <th>West Midlands</th>\n",
              "      <th>Yorkshire and The Humber</th>\n",
              "      <th>A Level</th>\n",
              "      <th>Degree</th>\n",
              "      <th>GCSE</th>\n",
              "      <th>Masters</th>\n",
              "      <th>None</th>\n",
              "      <th>Other</th>\n",
              "      <th>PhD</th>\n",
              "    </tr>\n",
              "  </thead>\n",
              "  <tbody>\n",
              "    <tr>\n",
              "      <th>0</th>\n",
              "      <td>20</td>\n",
              "      <td>1479.68</td>\n",
              "      <td>94</td>\n",
              "      <td>1</td>\n",
              "      <td>0</td>\n",
              "      <td>0</td>\n",
              "      <td>0</td>\n",
              "      <td>0</td>\n",
              "      <td>1</td>\n",
              "      <td>1</td>\n",
              "      <td>...</td>\n",
              "      <td>0</td>\n",
              "      <td>0</td>\n",
              "      <td>0</td>\n",
              "      <td>1</td>\n",
              "      <td>0</td>\n",
              "      <td>0</td>\n",
              "      <td>0</td>\n",
              "      <td>0</td>\n",
              "      <td>0</td>\n",
              "      <td>0</td>\n",
              "    </tr>\n",
              "    <tr>\n",
              "      <th>1</th>\n",
              "      <td>28</td>\n",
              "      <td>651.70</td>\n",
              "      <td>52</td>\n",
              "      <td>2</td>\n",
              "      <td>0</td>\n",
              "      <td>0</td>\n",
              "      <td>0</td>\n",
              "      <td>0</td>\n",
              "      <td>1</td>\n",
              "      <td>0</td>\n",
              "      <td>...</td>\n",
              "      <td>0</td>\n",
              "      <td>0</td>\n",
              "      <td>0</td>\n",
              "      <td>1</td>\n",
              "      <td>0</td>\n",
              "      <td>0</td>\n",
              "      <td>0</td>\n",
              "      <td>0</td>\n",
              "      <td>0</td>\n",
              "      <td>0</td>\n",
              "    </tr>\n",
              "    <tr>\n",
              "      <th>2</th>\n",
              "      <td>63</td>\n",
              "      <td>4014.53</td>\n",
              "      <td>132</td>\n",
              "      <td>7</td>\n",
              "      <td>1</td>\n",
              "      <td>1</td>\n",
              "      <td>0</td>\n",
              "      <td>0</td>\n",
              "      <td>0</td>\n",
              "      <td>1</td>\n",
              "      <td>...</td>\n",
              "      <td>0</td>\n",
              "      <td>0</td>\n",
              "      <td>0</td>\n",
              "      <td>0</td>\n",
              "      <td>0</td>\n",
              "      <td>0</td>\n",
              "      <td>0</td>\n",
              "      <td>0</td>\n",
              "      <td>1</td>\n",
              "      <td>0</td>\n",
              "    </tr>\n",
              "    <tr>\n",
              "      <th>3</th>\n",
              "      <td>27</td>\n",
              "      <td>3920.23</td>\n",
              "      <td>59</td>\n",
              "      <td>8</td>\n",
              "      <td>1</td>\n",
              "      <td>1</td>\n",
              "      <td>0</td>\n",
              "      <td>0</td>\n",
              "      <td>0</td>\n",
              "      <td>1</td>\n",
              "      <td>...</td>\n",
              "      <td>0</td>\n",
              "      <td>0</td>\n",
              "      <td>0</td>\n",
              "      <td>1</td>\n",
              "      <td>0</td>\n",
              "      <td>0</td>\n",
              "      <td>0</td>\n",
              "      <td>0</td>\n",
              "      <td>0</td>\n",
              "      <td>0</td>\n",
              "    </tr>\n",
              "    <tr>\n",
              "      <th>4</th>\n",
              "      <td>50</td>\n",
              "      <td>3944.95</td>\n",
              "      <td>267</td>\n",
              "      <td>9</td>\n",
              "      <td>1</td>\n",
              "      <td>1</td>\n",
              "      <td>0</td>\n",
              "      <td>0</td>\n",
              "      <td>0</td>\n",
              "      <td>1</td>\n",
              "      <td>...</td>\n",
              "      <td>0</td>\n",
              "      <td>0</td>\n",
              "      <td>0</td>\n",
              "      <td>0</td>\n",
              "      <td>1</td>\n",
              "      <td>0</td>\n",
              "      <td>0</td>\n",
              "      <td>0</td>\n",
              "      <td>0</td>\n",
              "      <td>0</td>\n",
              "    </tr>\n",
              "  </tbody>\n",
              "</table>\n",
              "<p>5 rows × 30 columns</p>\n",
              "</div>\n",
              "      <button class=\"colab-df-convert\" onclick=\"convertToInteractive('df-ea6e5223-e294-4fcc-af0d-7a371fcbeb74')\"\n",
              "              title=\"Convert this dataframe to an interactive table.\"\n",
              "              style=\"display:none;\">\n",
              "        \n",
              "  <svg xmlns=\"http://www.w3.org/2000/svg\" height=\"24px\"viewBox=\"0 0 24 24\"\n",
              "       width=\"24px\">\n",
              "    <path d=\"M0 0h24v24H0V0z\" fill=\"none\"/>\n",
              "    <path d=\"M18.56 5.44l.94 2.06.94-2.06 2.06-.94-2.06-.94-.94-2.06-.94 2.06-2.06.94zm-11 1L8.5 8.5l.94-2.06 2.06-.94-2.06-.94L8.5 2.5l-.94 2.06-2.06.94zm10 10l.94 2.06.94-2.06 2.06-.94-2.06-.94-.94-2.06-.94 2.06-2.06.94z\"/><path d=\"M17.41 7.96l-1.37-1.37c-.4-.4-.92-.59-1.43-.59-.52 0-1.04.2-1.43.59L10.3 9.45l-7.72 7.72c-.78.78-.78 2.05 0 2.83L4 21.41c.39.39.9.59 1.41.59.51 0 1.02-.2 1.41-.59l7.78-7.78 2.81-2.81c.8-.78.8-2.07 0-2.86zM5.41 20L4 18.59l7.72-7.72 1.47 1.35L5.41 20z\"/>\n",
              "  </svg>\n",
              "      </button>\n",
              "      \n",
              "  <style>\n",
              "    .colab-df-container {\n",
              "      display:flex;\n",
              "      flex-wrap:wrap;\n",
              "      gap: 12px;\n",
              "    }\n",
              "\n",
              "    .colab-df-convert {\n",
              "      background-color: #E8F0FE;\n",
              "      border: none;\n",
              "      border-radius: 50%;\n",
              "      cursor: pointer;\n",
              "      display: none;\n",
              "      fill: #1967D2;\n",
              "      height: 32px;\n",
              "      padding: 0 0 0 0;\n",
              "      width: 32px;\n",
              "    }\n",
              "\n",
              "    .colab-df-convert:hover {\n",
              "      background-color: #E2EBFA;\n",
              "      box-shadow: 0px 1px 2px rgba(60, 64, 67, 0.3), 0px 1px 3px 1px rgba(60, 64, 67, 0.15);\n",
              "      fill: #174EA6;\n",
              "    }\n",
              "\n",
              "    [theme=dark] .colab-df-convert {\n",
              "      background-color: #3B4455;\n",
              "      fill: #D2E3FC;\n",
              "    }\n",
              "\n",
              "    [theme=dark] .colab-df-convert:hover {\n",
              "      background-color: #434B5C;\n",
              "      box-shadow: 0px 1px 3px 1px rgba(0, 0, 0, 0.15);\n",
              "      filter: drop-shadow(0px 1px 2px rgba(0, 0, 0, 0.3));\n",
              "      fill: #FFFFFF;\n",
              "    }\n",
              "  </style>\n",
              "\n",
              "      <script>\n",
              "        const buttonEl =\n",
              "          document.querySelector('#df-ea6e5223-e294-4fcc-af0d-7a371fcbeb74 button.colab-df-convert');\n",
              "        buttonEl.style.display =\n",
              "          google.colab.kernel.accessAllowed ? 'block' : 'none';\n",
              "\n",
              "        async function convertToInteractive(key) {\n",
              "          const element = document.querySelector('#df-ea6e5223-e294-4fcc-af0d-7a371fcbeb74');\n",
              "          const dataTable =\n",
              "            await google.colab.kernel.invokeFunction('convertToInteractive',\n",
              "                                                     [key], {});\n",
              "          if (!dataTable) return;\n",
              "\n",
              "          const docLinkHtml = 'Like what you see? Visit the ' +\n",
              "            '<a target=\"_blank\" href=https://colab.research.google.com/notebooks/data_table.ipynb>data table notebook</a>'\n",
              "            + ' to learn more about interactive tables.';\n",
              "          element.innerHTML = '';\n",
              "          dataTable['output_type'] = 'display_data';\n",
              "          await google.colab.output.renderOutput(dataTable, element);\n",
              "          const docLink = document.createElement('div');\n",
              "          docLink.innerHTML = docLinkHtml;\n",
              "          element.appendChild(docLink);\n",
              "        }\n",
              "      </script>\n",
              "    </div>\n",
              "  </div>\n",
              "  "
            ]
          },
          "metadata": {},
          "execution_count": 21
        }
      ]
    },
    {
      "cell_type": "markdown",
      "source": [
        "Splitting training and test data"
      ],
      "metadata": {
        "id": "Zc7NnWwzwC3N"
      }
    },
    {
      "cell_type": "code",
      "source": [
        "from sklearn.model_selection import train_test_split\n",
        "\n",
        "\n",
        "X_train, X_test, Y_train, Y_test = train_test_split(X, Y, test_size=0.2)\n",
        "X_train.shape, X_test.shape, Y_train.shape, Y_test.shape"
      ],
      "metadata": {
        "colab": {
          "base_uri": "https://localhost:8080/"
        },
        "id": "sjCgXqLcwHqk",
        "outputId": "e6b428ca-ef7a-4350-ec7f-4f63ec1f22eb"
      },
      "execution_count": null,
      "outputs": [
        {
          "output_type": "execute_result",
          "data": {
            "text/plain": [
              "((800, 29), (200, 29), (800,), (200,))"
            ]
          },
          "metadata": {},
          "execution_count": 22
        }
      ]
    },
    {
      "cell_type": "markdown",
      "source": [
        "Feature Scaling"
      ],
      "metadata": {
        "id": "W-4EDHpN-euP"
      }
    },
    {
      "cell_type": "code",
      "source": [
        "from sklearn.preprocessing import StandardScaler\n",
        "st_x= StandardScaler()\n",
        "X_train= st_x.fit_transform(X_train)\n",
        "X_test= st_x.transform(X_test)"
      ],
      "metadata": {
        "id": "5MuPmbt8L_CZ"
      },
      "execution_count": null,
      "outputs": []
    },
    {
      "cell_type": "code",
      "source": [
        "model_accurancy={}\n",
        "from sklearn.metrics import confusion_matrix\n",
        "from sklearn.metrics import ConfusionMatrixDisplay"
      ],
      "metadata": {
        "id": "vmUCblzC9gSI"
      },
      "execution_count": null,
      "outputs": []
    },
    {
      "cell_type": "markdown",
      "source": [
        "Logistic regression"
      ],
      "metadata": {
        "id": "zMfEixJExEjR"
      }
    },
    {
      "cell_type": "code",
      "source": [
        "from sklearn.linear_model import LogisticRegression\n",
        "from sklearn.metrics import classification_report\n",
        "classifier= LogisticRegression(random_state=0)\n",
        "classifier.fit(X_train, Y_train)\n",
        "y_pred= classifier.predict(X_test)\n",
        "model_accurancy[\"Logistic\"] = classifier.score(X_test, Y_test)\n",
        "print(classification_report(Y_test, y_pred))\n"
      ],
      "metadata": {
        "id": "grIyzsZbxHYK",
        "colab": {
          "base_uri": "https://localhost:8080/"
        },
        "outputId": "5dae0aa9-d2b6-42e5-eea6-15238ce5fd44"
      },
      "execution_count": null,
      "outputs": [
        {
          "output_type": "stream",
          "name": "stdout",
          "text": [
            "              precision    recall  f1-score   support\n",
            "\n",
            "           0       0.87      0.90      0.89        84\n",
            "           1       0.93      0.91      0.92       116\n",
            "\n",
            "    accuracy                           0.91       200\n",
            "   macro avg       0.90      0.90      0.90       200\n",
            "weighted avg       0.91      0.91      0.91       200\n",
            "\n"
          ]
        }
      ]
    },
    {
      "cell_type": "markdown",
      "source": [
        "Confusion Matrix"
      ],
      "metadata": {
        "id": "d_BguFjRxhjg"
      }
    },
    {
      "cell_type": "code",
      "source": [
        "\n",
        "cm= confusion_matrix(Y_test, y_pred)\n",
        "cm"
      ],
      "metadata": {
        "id": "iuCh3Btpxjv8",
        "colab": {
          "base_uri": "https://localhost:8080/"
        },
        "outputId": "8639c8b8-dcf1-420e-99b8-20b6c381ba42"
      },
      "execution_count": null,
      "outputs": [
        {
          "output_type": "execute_result",
          "data": {
            "text/plain": [
              "array([[ 76,   8],\n",
              "       [ 11, 105]])"
            ]
          },
          "metadata": {},
          "execution_count": 26
        }
      ]
    },
    {
      "cell_type": "markdown",
      "source": [
        "`Decision tree classifier"
      ],
      "metadata": {
        "id": "FM71PATK0Ea9"
      }
    },
    {
      "cell_type": "code",
      "source": [
        "\n",
        "from sklearn.tree import DecisionTreeClassifier\n",
        "from sklearn.metrics import confusion_matrix, ConfusionMatrixDisplay\n",
        "classifier= DecisionTreeClassifier(criterion='entropy', random_state=0)\n",
        "classifier.fit(X_train, Y_train)\n",
        "y_pred= classifier.predict(X_test)\n",
        "model_accurancy[\"Decision tree\"] = classifier.score(X_test, Y_test)\n",
        "cm= confusion_matrix(Y_test, y_pred)\n",
        "cm\n"
      ],
      "metadata": {
        "id": "EaIpJR9R0Iy9",
        "colab": {
          "base_uri": "https://localhost:8080/"
        },
        "outputId": "89745d8b-a052-44f0-d694-1bf940e3dbeb"
      },
      "execution_count": null,
      "outputs": [
        {
          "output_type": "execute_result",
          "data": {
            "text/plain": [
              "array([[ 75,   9],\n",
              "       [  5, 111]])"
            ]
          },
          "metadata": {},
          "execution_count": 27
        }
      ]
    },
    {
      "cell_type": "code",
      "source": [
        "# import seaborn as sns\n",
        "# sns.heatmap(cm,annot=True,annot_kws={\"size\": 16})\n",
        "fig, ax = plt.subplots(figsize=(8, 8))\n",
        "disp = ConfusionMatrixDisplay(confusion_matrix(Y_test, y_pred))\n",
        "disp.plot(cmap=plt.cm.Blues, ax=ax)\n",
        "plt.grid(False)\n"
      ],
      "metadata": {
        "id": "cLlQ8FqpeIkP",
        "colab": {
          "base_uri": "https://localhost:8080/",
          "height": 653
        },
        "outputId": "26b950d5-83eb-4459-b7ce-fbd8b64efe8c"
      },
      "execution_count": null,
      "outputs": [
        {
          "output_type": "display_data",
          "data": {
            "text/plain": [
              "<Figure size 800x800 with 2 Axes>"
            ],
            "image/png": "[encoded data removed]"
          },
          "metadata": {}
        }
      ]
    },
    {
      "cell_type": "markdown",
      "source": [
        "Claasification Report"
      ],
      "metadata": {
        "id": "dmjZ1xayFPbi"
      }
    },
    {
      "cell_type": "code",
      "source": [
        "print(classification_report(Y_test, y_pred))"
      ],
      "metadata": {
        "id": "RpTdMkD-FO3s",
        "colab": {
          "base_uri": "https://localhost:8080/"
        },
        "outputId": "87d57752-9280-46d5-d3cd-326eda69047e"
      },
      "execution_count": null,
      "outputs": [
        {
          "output_type": "stream",
          "name": "stdout",
          "text": [
            "              precision    recall  f1-score   support\n",
            "\n",
            "           0       0.94      0.89      0.91        84\n",
            "           1       0.93      0.96      0.94       116\n",
            "\n",
            "    accuracy                           0.93       200\n",
            "   macro avg       0.93      0.92      0.93       200\n",
            "weighted avg       0.93      0.93      0.93       200\n",
            "\n"
          ]
        }
      ]
    },
    {
      "cell_type": "code",
      "source": [
        "from sklearn.metrics import f1_score\n",
        "f1 = f1_score(Y_test, y_pred)\n",
        "f1"
      ],
      "metadata": {
        "colab": {
          "base_uri": "https://localhost:8080/"
        },
        "id": "szok35VQgpJ6",
        "outputId": "f0718b0a-50f0-4aeb-91a9-ec4b921e7e5e"
      },
      "execution_count": null,
      "outputs": [
        {
          "output_type": "execute_result",
          "data": {
            "text/plain": [
              "0.9406779661016949"
            ]
          },
          "metadata": {},
          "execution_count": 30
        }
      ]
    },
    {
      "cell_type": "code",
      "source": [
        "from sklearn.metrics import accuracy_score\n",
        "acc=accuracy_score(Y_test, y_pred)\n",
        "acc"
      ],
      "metadata": {
        "colab": {
          "base_uri": "https://localhost:8080/"
        },
        "id": "PWXi7IoWQexw",
        "outputId": "6866b3bc-1d1e-4e9b-c2ef-ea8887a37e07"
      },
      "execution_count": null,
      "outputs": [
        {
          "output_type": "execute_result",
          "data": {
            "text/plain": [
              "0.93"
            ]
          },
          "metadata": {},
          "execution_count": 31
        }
      ]
    },
    {
      "cell_type": "code",
      "source": [
        "from sklearn.metrics import roc_curve\n"
      ],
      "metadata": {
        "id": "FfCCPGTESBFp"
      },
      "execution_count": null,
      "outputs": []
    },
    {
      "cell_type": "markdown",
      "source": [
        "KNN classifier"
      ],
      "metadata": {
        "id": "B9tuUW7ZEMz1"
      }
    },
    {
      "cell_type": "code",
      "source": [
        "from sklearn.neighbors import KNeighborsClassifier\n",
        "classifier= KNeighborsClassifier(n_neighbors=5, metric='minkowski', p=2 )\n",
        "classifier.fit(X_train, Y_train)\n",
        "#Predicting the test set result\n",
        "y_pred= classifier.predict(X_test)\n",
        "model_accurancy[\"KNN\"] = classifier.score(X_test, Y_test)\n",
        "cm= confusion_matrix(Y_test, y_pred)\n",
        "cm"
      ],
      "metadata": {
        "colab": {
          "base_uri": "https://localhost:8080/"
        },
        "id": "a26Vvf1EEQDM",
        "outputId": "56fd6a39-f02c-41ec-f47c-c1eb28d4fa73"
      },
      "execution_count": null,
      "outputs": [
        {
          "output_type": "execute_result",
          "data": {
            "text/plain": [
              "array([[ 45,  39],\n",
              "       [  5, 111]])"
            ]
          },
          "metadata": {},
          "execution_count": 33
        }
      ]
    },
    {
      "cell_type": "markdown",
      "source": [
        "Naive bayes classifier"
      ],
      "metadata": {
        "id": "eTpWE_MWGBiD"
      }
    },
    {
      "cell_type": "code",
      "source": [
        "from sklearn.naive_bayes import GaussianNB\n",
        "classifier = GaussianNB()\n",
        "classifier.fit(X_train, Y_train)\n",
        "y_pred = classifier.predict(X_test)\n",
        "model_accurancy[\"Naive bayes\"] = classifier.score(X_test, Y_test)\n",
        "cm = confusion_matrix(Y_test, y_pred)\n",
        "cm"
      ],
      "metadata": {
        "colab": {
          "base_uri": "https://localhost:8080/"
        },
        "id": "2lM7ZY55GA6W",
        "outputId": "0cf583e4-cad5-40f6-e747-7e336102f5e2"
      },
      "execution_count": null,
      "outputs": [
        {
          "output_type": "execute_result",
          "data": {
            "text/plain": [
              "array([[ 72,  12],\n",
              "       [ 12, 104]])"
            ]
          },
          "metadata": {},
          "execution_count": 34
        }
      ]
    },
    {
      "cell_type": "markdown",
      "source": [
        "Random forest classifier"
      ],
      "metadata": {
        "id": "5RT92bh7HVA4"
      }
    },
    {
      "cell_type": "code",
      "source": [
        "#Fitting Decision Tree classifier to the training set\n",
        "from sklearn.ensemble import RandomForestClassifier\n",
        "classifier= RandomForestClassifier(n_estimators= 10, criterion=\"entropy\")\n",
        "classifier.fit(X_train, Y_train)\n",
        "#Predicting the test set result\n",
        "y_pred= classifier.predict(X_test)\n",
        "model_accurancy[\"Random forest\"] = classifier.score(X_test, Y_test)\n",
        "cm= confusion_matrix(Y_test, y_pred)\n",
        "cm"
      ],
      "metadata": {
        "colab": {
          "base_uri": "https://localhost:8080/"
        },
        "id": "x4xVcrShHYiF",
        "outputId": "328e5d71-158e-4d77-d19f-aa3aac4310e8"
      },
      "execution_count": null,
      "outputs": [
        {
          "output_type": "execute_result",
          "data": {
            "text/plain": [
              "array([[ 78,   6],\n",
              "       [  5, 111]])"
            ]
          },
          "metadata": {},
          "execution_count": 35
        }
      ]
    },
    {
      "cell_type": "code",
      "source": [
        "model_accurancies = pd.DataFrame(model_accurancy, index=[\"Accuracy\"])\n",
        "model_accurancies.T.plot.bar()"
      ],
      "metadata": {
        "id": "NE8y1C0fKnRx",
        "colab": {
          "base_uri": "https://localhost:8080/",
          "height": 535
        },
        "outputId": "d49a7945-10e2-4ce0-dae5-83a01c2205e0"
      },
      "execution_count": null,
      "outputs": [
        {
          "output_type": "execute_result",
          "data": {
            "text/plain": [
              "<Axes: >"
            ]
          },
          "metadata": {},
          "execution_count": 36
        },
        {
          "output_type": "display_data",
          "data": {
            "text/plain": [
              "<Figure size 640x480 with 1 Axes>"
            ],
            "image/png": "[encoded data removed]"
          },
          "metadata": {}
        }
      ]
    },
    {
      "cell_type": "markdown",
      "source": [
        "Neural Networks"
      ],
      "metadata": {
        "id": "9u04kKy4yE8C"
      }
    },
    {
      "cell_type": "code",
      "source": [
        "import tensorflow as tf\n",
        "from sklearn.metrics import confusion_matrix, ConfusionMatrixDisplay, accuracy_score, precision_score, recall_score, f1_score, classification_report, balanced_accuracy_score"
      ],
      "metadata": {
        "id": "wkNT8P74yFla"
      },
      "execution_count": null,
      "outputs": []
    },
    {
      "cell_type": "code",
      "source": [
        "dataset_Neural = pd.read_csv(\"Comp1801CourseworkDataResit.csv\")\n",
        "rng = np.random.default_rng(0)\n",
        "dataset_Neural = dataset_Neural.iloc[rng.permutation(len(dataset_Neural))].reset_index(drop=True)"
      ],
      "metadata": {
        "id": "G8wrj6smyM2i"
      },
      "execution_count": null,
      "outputs": []
    },
    {
      "cell_type": "code",
      "source": [
        "dataset_Neural[\"Salary\"] = dataset_Neural[\"Salary\"].apply(lambda x: 1 if x >= 40000.00 else 0)"
      ],
      "metadata": {
        "id": "ZF4tWpqayXXz"
      },
      "execution_count": null,
      "outputs": []
    },
    {
      "cell_type": "code",
      "source": [
        "worktype = pd.get_dummies(dataset_Neural['WorkType'])\n",
        "sex=pd.get_dummies(dataset_Neural['Sex'])\n",
        "region=pd.get_dummies(dataset_Neural['Region'])\n",
        "education=pd.get_dummies(dataset_Neural['Education'])\n",
        "\n",
        "# using pd.concat to concatenate the dataframes\n",
        "# df and df1 and storing the concatenated\n",
        "# dataFrame in df.\n",
        "dataset_Neural = pd.concat([dataset_Neural,worktype,sex,region,education], axis=1).reindex(dataset_Neural.index)\n",
        "\n",
        "# removing the column 'Purchased' from df\n",
        "# as it is of no use now.\n",
        "\n",
        "dataset_Neural.drop(['WorkType', 'Sex','Region' , 'Education'], inplace=True, axis=1)\n",
        "\n",
        "# printing df\n",
        "dataset_Neural.head()\n",
        "# Create feature Matrix\n",
        "X = dataset_Neural.drop(\"Salary\", axis=1)\n",
        "\n",
        "# Create label\n",
        "Y = dataset_Neural[\"Salary\"]"
      ],
      "metadata": {
        "id": "IL1KNo_VysxL"
      },
      "execution_count": null,
      "outputs": []
    },
    {
      "cell_type": "code",
      "source": [
        "from sklearn.model_selection import train_test_split\n",
        "from sklearn.preprocessing import StandardScaler\n",
        "X= X.to_numpy()\n",
        "Y = Y.to_numpy()\n",
        "\n",
        "# Split the data into training/test data\n",
        "# While we have 569 pairs of a feature and target, we use 20% only for the test, not for training and validation.\n",
        "# `shuffle=True` for non-time series case. You should set `shuffle=False` to avoid future data being contaminated in the training data.\n",
        "X_nontest_raw, X_test_raw, Y_nontest, Y_test = train_test_split(X, Y, test_size=0.20, shuffle=True, random_state=0)\n",
        "X_train_raw, X_valid_raw, Y_train, Y_valid = train_test_split(X_nontest_raw, Y_nontest, test_size=0.25, shuffle=True, random_state=0)\n",
        "\n",
        "scaler = StandardScaler()\n",
        "scaler.fit(X_train_raw)\n",
        "X_train = scaler.transform(X_train_raw)\n",
        "X_valid = scaler.transform(X_valid_raw)\n",
        "X_test = scaler.transform(X_test_raw)\n"
      ],
      "metadata": {
        "id": "RjgMnFTbzjC0"
      },
      "execution_count": null,
      "outputs": []
    },
    {
      "cell_type": "code",
      "source": [
        "alpha = 0.01\n",
        "kernel_regularizer = L2(l2=alpha)\n",
        "\n",
        "# Define the `Dense` layers.\n",
        "dense_layer_1 = Dense(units=10, activation=relu, kernel_regularizer=kernel_regularizer)\n",
        "output_layer = Dense(units=1, activation=sigmoid, kernel_regularizer=kernel_regularizer)\n",
        "\n",
        "# Define the \"virtual\" input\n",
        "input = Input(shape=X_train.shape[1:])\n",
        "\n",
        "# Define the \"virtual\" output\n",
        "output = dense_layer_1(input)\n",
        "output = output_layer(output)\n",
        "\n",
        "# Define the neural network model.\n",
        "model = Model(inputs=[input], outputs=[output], name='logistic_regression_balanced')\n",
        "\n",
        "# Output the summary of the model.\n",
        "model.summary()\n",
        "\n",
        "\n",
        "sgd = SGD(learning_rate=0.01)\n",
        "ce = BinaryCrossentropy()\n",
        "acc = BinaryAccuracy()\n",
        "model.compile(optimizer=sgd, loss=ce, metrics=[acc])"
      ],
      "metadata": {
        "id": "leriXNa82Kyk",
        "colab": {
          "base_uri": "https://localhost:8080/"
        },
        "outputId": "fc5c89a1-a9cf-4328-a496-8d314137b41e"
      },
      "execution_count": null,
      "outputs": [
        {
          "output_type": "stream",
          "name": "stdout",
          "text": [
            "Model: \"logistic_regression_balanced\"\n",
            "_________________________________________________________________\n",
            " Layer (type)                Output Shape              Param #   \n",
            "=================================================================\n",
            " input_2 (InputLayer)        [(None, 29)]              0         \n",
            "                                                                 \n",
            " dense_8 (Dense)             (None, 10)                300       \n",
            "                                                                 \n",
            " dense_9 (Dense)             (None, 1)                 11        \n",
            "                                                                 \n",
            "=================================================================\n",
            "Total params: 311\n",
            "Trainable params: 311\n",
            "Non-trainable params: 0\n",
            "_________________________________________________________________\n"
          ]
        }
      ]
    },
    {
      "cell_type": "code",
      "source": [
        "m = {}\n",
        "m[0] = np.sum((Y_train == 0).astype(int)) # Count how many times `0` appears in the target matrix.\n",
        "m[1] = np.sum((Y_train == 1).astype(int)) # Count how many times `1` appears in the target matrix.\n",
        "m_total = m[0] + m[1]\n",
        "class_weight = {0: m_total / (2.0 * m[0]), 1: m_total / (2.0 * m[1])}\n",
        "\n",
        "history = model.fit(X_train, Y_train, batch_size=100, epochs=50, validation_data=(X_valid, Y_valid), class_weight=class_weight)\n",
        "\n",
        "# Plot validation MSE, alwys nice to have plots to help us visualise things!\n",
        "plt.plot(history.history['binary_accuracy'], label='accuracy')\n",
        "plt.plot(history.history['val_binary_accuracy'], label = 'val_accuracy')\n",
        "plt.xlabel('Epoch')\n",
        "plt.ylabel('Accuracy')\n",
        "plt.legend(loc='lower right')"
      ],
      "metadata": {
        "id": "uYisJUgT208-",
        "colab": {
          "base_uri": "https://localhost:8080/",
          "height": 1000
        },
        "outputId": "e1ef8b36-8f3c-46be-f61d-2779fca26014"
      },
      "execution_count": null,
      "outputs": [
        {
          "output_type": "stream",
          "name": "stdout",
          "text": [
            "Epoch 1/50\n",
            "6/6 [==============================] - 1s 44ms/step - loss: 0.9121 - binary_accuracy: 0.6683 - val_loss: 0.8288 - val_binary_accuracy: 0.5750\n",
            "Epoch 2/50\n",
            "6/6 [==============================] - 0s 14ms/step - loss: 0.8885 - binary_accuracy: 0.6683 - val_loss: 0.8136 - val_binary_accuracy: 0.5800\n",
            "Epoch 3/50\n",
            "6/6 [==============================] - 0s 11ms/step - loss: 0.8671 - binary_accuracy: 0.6733 - val_loss: 0.7999 - val_binary_accuracy: 0.5950\n",
            "Epoch 4/50\n",
            "6/6 [==============================] - 0s 11ms/step - loss: 0.8476 - binary_accuracy: 0.6717 - val_loss: 0.7874 - val_binary_accuracy: 0.6000\n",
            "Epoch 5/50\n",
            "6/6 [==============================] - 0s 9ms/step - loss: 0.8297 - binary_accuracy: 0.6767 - val_loss: 0.7759 - val_binary_accuracy: 0.6150\n",
            "Epoch 6/50\n",
            "6/6 [==============================] - 0s 9ms/step - loss: 0.8134 - binary_accuracy: 0.6750 - val_loss: 0.7655 - val_binary_accuracy: 0.6200\n",
            "Epoch 7/50\n",
            "6/6 [==============================] - 0s 9ms/step - loss: 0.7984 - binary_accuracy: 0.6800 - val_loss: 0.7559 - val_binary_accuracy: 0.6500\n",
            "Epoch 8/50\n",
            "6/6 [==============================] - 0s 10ms/step - loss: 0.7845 - binary_accuracy: 0.6933 - val_loss: 0.7470 - val_binary_accuracy: 0.6750\n",
            "Epoch 9/50\n",
            "6/6 [==============================] - 0s 8ms/step - loss: 0.7714 - binary_accuracy: 0.6917 - val_loss: 0.7388 - val_binary_accuracy: 0.6750\n",
            "Epoch 10/50\n",
            "6/6 [==============================] - 0s 8ms/step - loss: 0.7593 - binary_accuracy: 0.6950 - val_loss: 0.7311 - val_binary_accuracy: 0.6850\n",
            "Epoch 11/50\n",
            "6/6 [==============================] - 0s 8ms/step - loss: 0.7479 - binary_accuracy: 0.7050 - val_loss: 0.7240 - val_binary_accuracy: 0.6850\n",
            "Epoch 12/50\n",
            "6/6 [==============================] - 0s 12ms/step - loss: 0.7373 - binary_accuracy: 0.7100 - val_loss: 0.7173 - val_binary_accuracy: 0.6900\n",
            "Epoch 13/50\n",
            "6/6 [==============================] - 0s 8ms/step - loss: 0.7274 - binary_accuracy: 0.7200 - val_loss: 0.7109 - val_binary_accuracy: 0.7000\n",
            "Epoch 14/50\n",
            "6/6 [==============================] - 0s 8ms/step - loss: 0.7181 - binary_accuracy: 0.7350 - val_loss: 0.7049 - val_binary_accuracy: 0.7100\n",
            "Epoch 15/50\n",
            "6/6 [==============================] - 0s 14ms/step - loss: 0.7094 - binary_accuracy: 0.7467 - val_loss: 0.6992 - val_binary_accuracy: 0.7100\n",
            "Epoch 16/50\n",
            "6/6 [==============================] - 0s 12ms/step - loss: 0.7010 - binary_accuracy: 0.7483 - val_loss: 0.6937 - val_binary_accuracy: 0.7150\n",
            "Epoch 17/50\n",
            "6/6 [==============================] - 0s 8ms/step - loss: 0.6931 - binary_accuracy: 0.7550 - val_loss: 0.6885 - val_binary_accuracy: 0.7200\n",
            "Epoch 18/50\n",
            "6/6 [==============================] - 0s 8ms/step - loss: 0.6855 - binary_accuracy: 0.7617 - val_loss: 0.6835 - val_binary_accuracy: 0.7200\n",
            "Epoch 19/50\n",
            "6/6 [==============================] - 0s 8ms/step - loss: 0.6784 - binary_accuracy: 0.7717 - val_loss: 0.6787 - val_binary_accuracy: 0.7200\n",
            "Epoch 20/50\n",
            "6/6 [==============================] - 0s 12ms/step - loss: 0.6716 - binary_accuracy: 0.7767 - val_loss: 0.6741 - val_binary_accuracy: 0.7300\n",
            "Epoch 21/50\n",
            "6/6 [==============================] - 0s 8ms/step - loss: 0.6649 - binary_accuracy: 0.7817 - val_loss: 0.6696 - val_binary_accuracy: 0.7400\n",
            "Epoch 22/50\n",
            "6/6 [==============================] - 0s 8ms/step - loss: 0.6586 - binary_accuracy: 0.7867 - val_loss: 0.6653 - val_binary_accuracy: 0.7450\n",
            "Epoch 23/50\n",
            "6/6 [==============================] - 0s 11ms/step - loss: 0.6525 - binary_accuracy: 0.7883 - val_loss: 0.6610 - val_binary_accuracy: 0.7450\n",
            "Epoch 24/50\n",
            "6/6 [==============================] - 0s 8ms/step - loss: 0.6466 - binary_accuracy: 0.7900 - val_loss: 0.6570 - val_binary_accuracy: 0.7500\n",
            "Epoch 25/50\n",
            "6/6 [==============================] - 0s 11ms/step - loss: 0.6410 - binary_accuracy: 0.7950 - val_loss: 0.6531 - val_binary_accuracy: 0.7550\n",
            "Epoch 26/50\n",
            "6/6 [==============================] - 0s 10ms/step - loss: 0.6356 - binary_accuracy: 0.8033 - val_loss: 0.6493 - val_binary_accuracy: 0.7700\n",
            "Epoch 27/50\n",
            "6/6 [==============================] - 0s 8ms/step - loss: 0.6305 - binary_accuracy: 0.8083 - val_loss: 0.6457 - val_binary_accuracy: 0.7850\n",
            "Epoch 28/50\n",
            "6/6 [==============================] - 0s 11ms/step - loss: 0.6255 - binary_accuracy: 0.8150 - val_loss: 0.6421 - val_binary_accuracy: 0.7900\n",
            "Epoch 29/50\n",
            "6/6 [==============================] - 0s 12ms/step - loss: 0.6205 - binary_accuracy: 0.8267 - val_loss: 0.6387 - val_binary_accuracy: 0.7900\n",
            "Epoch 30/50\n",
            "6/6 [==============================] - 0s 9ms/step - loss: 0.6158 - binary_accuracy: 0.8267 - val_loss: 0.6354 - val_binary_accuracy: 0.7950\n",
            "Epoch 31/50\n",
            "6/6 [==============================] - 0s 9ms/step - loss: 0.6113 - binary_accuracy: 0.8333 - val_loss: 0.6321 - val_binary_accuracy: 0.7950\n",
            "Epoch 32/50\n",
            "6/6 [==============================] - 0s 11ms/step - loss: 0.6068 - binary_accuracy: 0.8333 - val_loss: 0.6289 - val_binary_accuracy: 0.7950\n",
            "Epoch 33/50\n",
            "6/6 [==============================] - 0s 12ms/step - loss: 0.6026 - binary_accuracy: 0.8367 - val_loss: 0.6258 - val_binary_accuracy: 0.8050\n",
            "Epoch 34/50\n",
            "6/6 [==============================] - 0s 12ms/step - loss: 0.5984 - binary_accuracy: 0.8383 - val_loss: 0.6228 - val_binary_accuracy: 0.8050\n",
            "Epoch 35/50\n",
            "6/6 [==============================] - 0s 12ms/step - loss: 0.5943 - binary_accuracy: 0.8400 - val_loss: 0.6197 - val_binary_accuracy: 0.8050\n",
            "Epoch 36/50\n",
            "6/6 [==============================] - 0s 14ms/step - loss: 0.5903 - binary_accuracy: 0.8417 - val_loss: 0.6167 - val_binary_accuracy: 0.8050\n",
            "Epoch 37/50\n",
            "6/6 [==============================] - 0s 9ms/step - loss: 0.5864 - binary_accuracy: 0.8350 - val_loss: 0.6138 - val_binary_accuracy: 0.8150\n",
            "Epoch 38/50\n",
            "6/6 [==============================] - 0s 8ms/step - loss: 0.5827 - binary_accuracy: 0.8417 - val_loss: 0.6109 - val_binary_accuracy: 0.8150\n",
            "Epoch 39/50\n",
            "6/6 [==============================] - 0s 9ms/step - loss: 0.5789 - binary_accuracy: 0.8467 - val_loss: 0.6081 - val_binary_accuracy: 0.8150\n",
            "Epoch 40/50\n",
            "6/6 [==============================] - 0s 9ms/step - loss: 0.5753 - binary_accuracy: 0.8467 - val_loss: 0.6054 - val_binary_accuracy: 0.8150\n",
            "Epoch 41/50\n",
            "6/6 [==============================] - 0s 9ms/step - loss: 0.5718 - binary_accuracy: 0.8467 - val_loss: 0.6028 - val_binary_accuracy: 0.8150\n",
            "Epoch 42/50\n",
            "6/6 [==============================] - 0s 11ms/step - loss: 0.5684 - binary_accuracy: 0.8483 - val_loss: 0.6002 - val_binary_accuracy: 0.8200\n",
            "Epoch 43/50\n",
            "6/6 [==============================] - 0s 12ms/step - loss: 0.5649 - binary_accuracy: 0.8483 - val_loss: 0.5976 - val_binary_accuracy: 0.8200\n",
            "Epoch 44/50\n",
            "6/6 [==============================] - 0s 9ms/step - loss: 0.5616 - binary_accuracy: 0.8467 - val_loss: 0.5951 - val_binary_accuracy: 0.8250\n",
            "Epoch 45/50\n",
            "6/6 [==============================] - 0s 12ms/step - loss: 0.5584 - binary_accuracy: 0.8517 - val_loss: 0.5927 - val_binary_accuracy: 0.8250\n",
            "Epoch 46/50\n",
            "6/6 [==============================] - 0s 9ms/step - loss: 0.5552 - binary_accuracy: 0.8550 - val_loss: 0.5903 - val_binary_accuracy: 0.8200\n",
            "Epoch 47/50\n",
            "6/6 [==============================] - 0s 9ms/step - loss: 0.5522 - binary_accuracy: 0.8550 - val_loss: 0.5880 - val_binary_accuracy: 0.8200\n",
            "Epoch 48/50\n",
            "6/6 [==============================] - 0s 23ms/step - loss: 0.5492 - binary_accuracy: 0.8617 - val_loss: 0.5858 - val_binary_accuracy: 0.8150\n",
            "Epoch 49/50\n",
            "6/6 [==============================] - 0s 22ms/step - loss: 0.5463 - binary_accuracy: 0.8633 - val_loss: 0.5836 - val_binary_accuracy: 0.8150\n",
            "Epoch 50/50\n",
            "6/6 [==============================] - 0s 40ms/step - loss: 0.5434 - binary_accuracy: 0.8633 - val_loss: 0.5814 - val_binary_accuracy: 0.8150\n"
          ]
        },
        {
          "output_type": "execute_result",
          "data": {
            "text/plain": [
              "<matplotlib.legend.Legend at 0x7fdd6fe74730>"
            ]
          },
          "metadata": {},
          "execution_count": 71
        },
        {
          "output_type": "display_data",
          "data": {
            "text/plain": [
              "<Figure size 640x480 with 1 Axes>"
            ],
            "image/png": "[encoded data removed]"
          },
          "metadata": {}
        }
      ]
    },
    {
      "cell_type": "code",
      "source": [
        "Y_test_logit = model.predict(X_test)\n",
        "Y_test_pred = (Y_test_logit > 0.5).astype(int)\n",
        "bacc = balanced_accuracy_score(Y_test, Y_test_pred)\n",
        "print('The balanced accuracy score on the test data:', bacc)"
      ],
      "metadata": {
        "id": "7xHON5a83ATl",
        "colab": {
          "base_uri": "https://localhost:8080/"
        },
        "outputId": "92b53a2c-d212-44e1-e1b5-fb614301d100"
      },
      "execution_count": null,
      "outputs": [
        {
          "output_type": "stream",
          "name": "stdout",
          "text": [
            "7/7 [==============================] - 0s 4ms/step\n",
            "The balanced accuracy score on the test data: 0.8333333333333333\n"
          ]
        }
      ]
    },
    {
      "cell_type": "code",
      "source": [
        "disp = ConfusionMatrixDisplay(confusion_matrix(Y_test, Y_test_pred))\n",
        "disp.plot(cmap=plt.cm.Blues)\n",
        "plt.grid(False)\n",
        "\n",
        "acc_test = accuracy_score(Y_test, Y_test_pred)\n",
        "f1_test = f1_score(Y_test, Y_test_pred, pos_label=1)\n",
        "print('The accuracy on the test data with the selected hyperparameter:', acc_test)\n",
        "print('The F1 score on the test data with the selected hyperparameter:', f1_test)\n",
        "pre_test = precision_score(Y_test, Y_test_pred, pos_label=1)\n",
        "print('Precision on test data:', pre_test)\n",
        "reca_test = precision_score(Y_test, Y_test_pred, pos_label=1)\n",
        "print('Recall on test data:', reca_test)\n",
        "print(model.evaluate(X_test, Y_test))"
      ],
      "metadata": {
        "colab": {
          "base_uri": "https://localhost:8080/",
          "height": 551
        },
        "id": "vBtLm5O43HY-",
        "outputId": "4a3d02af-6ec3-4b09-e435-1b81a8bcd5a3"
      },
      "execution_count": null,
      "outputs": [
        {
          "output_type": "stream",
          "name": "stdout",
          "text": [
            "The accuracy on the test data with the selected hyperparameter: 0.81\n",
            "The F1 score on the test data with the selected hyperparameter: 0.8347826086956521\n",
            "Precision on test data: 0.9411764705882353\n",
            "Recall on test data: 0.9411764705882353\n",
            "7/7 [==============================] - 1s 3ms/step - loss: 0.6077 - binary_accuracy: 0.8100\n",
            "[0.6077350974082947, 0.8100000023841858]\n"
          ]
        },
        {
          "output_type": "display_data",
          "data": {
            "text/plain": [
              "<Figure size 640x480 with 2 Axes>"
            ],
            "image/png": "[encoded data removed]"
          },
          "metadata": {}
        }
      ]
    },
    {
      "cell_type": "code",
      "source": [
        "tf.random.set_seed(42)\n",
        "alpha = 0.01\n",
        "kernel_regularizer = L2(l2=alpha)\n",
        "# Create a model\n",
        "model_1 = tf.keras.Sequential([\n",
        "  tf.keras.layers.Dense(4, activation=tf.keras.activations.relu,kernel_regularizer=kernel_regularizer), # hidden layer 1, ReLU activation\n",
        "  tf.keras.layers.Dense(4, activation=tf.keras.activations.relu,kernel_regularizer=kernel_regularizer), # hidden layer 2, ReLU activation\n",
        "  tf.keras.layers.Dense(1, activation=tf.keras.activations.sigmoid,kernel_regularizer=kernel_regularizer) # ouput layer, sigmoid activation\n",
        "])\n",
        "\n",
        "# Compile the model\n",
        "model_1.compile(loss=tf.keras.losses.binary_crossentropy,\n",
        "                optimizer=tf.keras.optimizers.Adam(),\n",
        "                metrics=['accuracy'])\n",
        "\n",
        "# Fit the model\n",
        "history = model_1.fit(X_train, Y_train, epochs=250, verbose=0)"
      ],
      "metadata": {
        "id": "gg4N4zB64F05"
      },
      "execution_count": null,
      "outputs": []
    },
    {
      "cell_type": "code",
      "source": [
        "model_1.evaluate(X_test, Y_test)\n"
      ],
      "metadata": {
        "colab": {
          "base_uri": "https://localhost:8080/"
        },
        "id": "fpL1PPsn4NDK",
        "outputId": "82a13c2d-59a6-45d4-9f80-e59d0604d04b"
      },
      "execution_count": null,
      "outputs": [
        {
          "output_type": "stream",
          "name": "stdout",
          "text": [
            "7/7 [==============================] - 0s 3ms/step - loss: 0.3338 - accuracy: 0.9050\n"
          ]
        },
        {
          "output_type": "execute_result",
          "data": {
            "text/plain": [
              "[0.3338130712509155, 0.9049999713897705]"
            ]
          },
          "metadata": {},
          "execution_count": 75
        }
      ]
    },
    {
      "cell_type": "code",
      "source": [
        "pd.DataFrame(history.history).loc[:, :\"accuracy\"].plot()"
      ],
      "metadata": {
        "colab": {
          "base_uri": "https://localhost:8080/",
          "height": 447
        },
        "id": "9hMEV9sE5nFO",
        "outputId": "7be3706f-9c88-4194-9c76-3a653faecde5"
      },
      "execution_count": null,
      "outputs": [
        {
          "output_type": "execute_result",
          "data": {
            "text/plain": [
              "<Axes: >"
            ]
          },
          "metadata": {},
          "execution_count": 76
        },
        {
          "output_type": "display_data",
          "data": {
            "text/plain": [
              "<Figure size 640x480 with 1 Axes>"
            ],
            "image/png": "[encoded data removed]"
          },
          "metadata": {}
        }
      ]
    },
    {
      "cell_type": "code",
      "source": [
        "tf.random.set_seed(42)\n",
        "alpha = 0.01\n",
        "kernel_regularizer = L2(l2=alpha)\n",
        "model_2 = tf.keras.Sequential([tf.keras.layers.Dense(50, activation='relu',kernel_regularizer=kernel_regularizer),\n",
        "                               tf.keras.layers.Dense(50, activation='relu',kernel_regularizer=kernel_regularizer),\n",
        "                               tf.keras.layers.Dense(1, activation='sigmoid',kernel_regularizer=kernel_regularizer)])\n",
        "model_2.compile(loss=tf.keras.losses.BinaryCrossentropy(),\n",
        "                optimizer=tf.keras.optimizers.Adam(), metrics=['accuracy'])\n",
        "history = model_2.fit(X_train, Y_train, epochs=100)\n",
        "model_2.summary()"
      ],
      "metadata": {
        "id": "4BSp2w7m55tj",
        "colab": {
          "base_uri": "https://localhost:8080/"
        },
        "outputId": "d07d3557-c54e-446d-f502-eea7a16f307f"
      },
      "execution_count": null,
      "outputs": [
        {
          "output_type": "stream",
          "name": "stdout",
          "text": [
            "Epoch 1/100\n",
            "19/19 [==============================] - 1s 3ms/step - loss: 1.4069 - accuracy: 0.7300\n",
            "Epoch 2/100\n",
            "19/19 [==============================] - 0s 3ms/step - loss: 1.2045 - accuracy: 0.8100\n",
            "Epoch 3/100\n",
            "19/19 [==============================] - 0s 4ms/step - loss: 1.0481 - accuracy: 0.8617\n",
            "Epoch 4/100\n",
            "19/19 [==============================] - 0s 4ms/step - loss: 0.9225 - accuracy: 0.8917\n",
            "Epoch 5/100\n",
            "19/19 [==============================] - 0s 4ms/step - loss: 0.8229 - accuracy: 0.8950\n",
            "Epoch 6/100\n",
            "19/19 [==============================] - 0s 2ms/step - loss: 0.7438 - accuracy: 0.9100\n",
            "Epoch 7/100\n",
            "19/19 [==============================] - 0s 2ms/step - loss: 0.6777 - accuracy: 0.9150\n",
            "Epoch 8/100\n",
            "19/19 [==============================] - 0s 2ms/step - loss: 0.6214 - accuracy: 0.9233\n",
            "Epoch 9/100\n",
            "19/19 [==============================] - 0s 2ms/step - loss: 0.5743 - accuracy: 0.9300\n",
            "Epoch 10/100\n",
            "19/19 [==============================] - 0s 2ms/step - loss: 0.5330 - accuracy: 0.9400\n",
            "Epoch 11/100\n",
            "19/19 [==============================] - 0s 2ms/step - loss: 0.4978 - accuracy: 0.9417\n",
            "Epoch 12/100\n",
            "19/19 [==============================] - 0s 2ms/step - loss: 0.4674 - accuracy: 0.9417\n",
            "Epoch 13/100\n",
            "19/19 [==============================] - 0s 2ms/step - loss: 0.4423 - accuracy: 0.9500\n",
            "Epoch 14/100\n",
            "19/19 [==============================] - 0s 2ms/step - loss: 0.4200 - accuracy: 0.9467\n",
            "Epoch 15/100\n",
            "19/19 [==============================] - 0s 2ms/step - loss: 0.3997 - accuracy: 0.9550\n",
            "Epoch 16/100\n",
            "19/19 [==============================] - 0s 2ms/step - loss: 0.3834 - accuracy: 0.9500\n",
            "Epoch 17/100\n",
            "19/19 [==============================] - 0s 2ms/step - loss: 0.3677 - accuracy: 0.9533\n",
            "Epoch 18/100\n",
            "19/19 [==============================] - 0s 2ms/step - loss: 0.3546 - accuracy: 0.9567\n",
            "Epoch 19/100\n",
            "19/19 [==============================] - 0s 2ms/step - loss: 0.3435 - accuracy: 0.9517\n",
            "Epoch 20/100\n",
            "19/19 [==============================] - 0s 2ms/step - loss: 0.3335 - accuracy: 0.9567\n",
            "Epoch 21/100\n",
            "19/19 [==============================] - 0s 2ms/step - loss: 0.3254 - accuracy: 0.9533\n",
            "Epoch 22/100\n",
            "19/19 [==============================] - 0s 2ms/step - loss: 0.3159 - accuracy: 0.9617\n",
            "Epoch 23/100\n",
            "19/19 [==============================] - 0s 2ms/step - loss: 0.3086 - accuracy: 0.9583\n",
            "Epoch 24/100\n",
            "19/19 [==============================] - 0s 2ms/step - loss: 0.3027 - accuracy: 0.9600\n",
            "Epoch 25/100\n",
            "19/19 [==============================] - 0s 2ms/step - loss: 0.2969 - accuracy: 0.9617\n",
            "Epoch 26/100\n",
            "19/19 [==============================] - 0s 3ms/step - loss: 0.2927 - accuracy: 0.9633\n",
            "Epoch 27/100\n",
            "19/19 [==============================] - 0s 2ms/step - loss: 0.2899 - accuracy: 0.9617\n",
            "Epoch 28/100\n",
            "19/19 [==============================] - 0s 2ms/step - loss: 0.2858 - accuracy: 0.9567\n",
            "Epoch 29/100\n",
            "19/19 [==============================] - 0s 2ms/step - loss: 0.2801 - accuracy: 0.9600\n",
            "Epoch 30/100\n",
            "19/19 [==============================] - 0s 2ms/step - loss: 0.2769 - accuracy: 0.9633\n",
            "Epoch 31/100\n",
            "19/19 [==============================] - 0s 2ms/step - loss: 0.2750 - accuracy: 0.9650\n",
            "Epoch 32/100\n",
            "19/19 [==============================] - 0s 2ms/step - loss: 0.2721 - accuracy: 0.9617\n",
            "Epoch 33/100\n",
            "19/19 [==============================] - 0s 2ms/step - loss: 0.2707 - accuracy: 0.9617\n",
            "Epoch 34/100\n",
            "19/19 [==============================] - 0s 2ms/step - loss: 0.2688 - accuracy: 0.9617\n",
            "Epoch 35/100\n",
            "19/19 [==============================] - 0s 2ms/step - loss: 0.2650 - accuracy: 0.9617\n",
            "Epoch 36/100\n",
            "19/19 [==============================] - 0s 2ms/step - loss: 0.2647 - accuracy: 0.9617\n",
            "Epoch 37/100\n",
            "19/19 [==============================] - 0s 2ms/step - loss: 0.2617 - accuracy: 0.9617\n",
            "Epoch 38/100\n",
            "19/19 [==============================] - 0s 2ms/step - loss: 0.2613 - accuracy: 0.9650\n",
            "Epoch 39/100\n",
            "19/19 [==============================] - 0s 2ms/step - loss: 0.2616 - accuracy: 0.9617\n",
            "Epoch 40/100\n",
            "19/19 [==============================] - 0s 2ms/step - loss: 0.2589 - accuracy: 0.9633\n",
            "Epoch 41/100\n",
            "19/19 [==============================] - 0s 2ms/step - loss: 0.2583 - accuracy: 0.9667\n",
            "Epoch 42/100\n",
            "19/19 [==============================] - 0s 2ms/step - loss: 0.2570 - accuracy: 0.9617\n",
            "Epoch 43/100\n",
            "19/19 [==============================] - 0s 2ms/step - loss: 0.2557 - accuracy: 0.9617\n",
            "Epoch 44/100\n",
            "19/19 [==============================] - 0s 3ms/step - loss: 0.2531 - accuracy: 0.9650\n",
            "Epoch 45/100\n",
            "19/19 [==============================] - 0s 2ms/step - loss: 0.2535 - accuracy: 0.9667\n",
            "Epoch 46/100\n",
            "19/19 [==============================] - 0s 3ms/step - loss: 0.2519 - accuracy: 0.9633\n",
            "Epoch 47/100\n",
            "19/19 [==============================] - 0s 2ms/step - loss: 0.2522 - accuracy: 0.9667\n",
            "Epoch 48/100\n",
            "19/19 [==============================] - 0s 2ms/step - loss: 0.2508 - accuracy: 0.9667\n",
            "Epoch 49/100\n",
            "19/19 [==============================] - 0s 2ms/step - loss: 0.2508 - accuracy: 0.9633\n",
            "Epoch 50/100\n",
            "19/19 [==============================] - 0s 2ms/step - loss: 0.2518 - accuracy: 0.9600\n",
            "Epoch 51/100\n",
            "19/19 [==============================] - 0s 2ms/step - loss: 0.2506 - accuracy: 0.9650\n",
            "Epoch 52/100\n",
            "19/19 [==============================] - 0s 2ms/step - loss: 0.2486 - accuracy: 0.9650\n",
            "Epoch 53/100\n",
            "19/19 [==============================] - 0s 2ms/step - loss: 0.2477 - accuracy: 0.9667\n",
            "Epoch 54/100\n",
            "19/19 [==============================] - 0s 2ms/step - loss: 0.2472 - accuracy: 0.9667\n",
            "Epoch 55/100\n",
            "19/19 [==============================] - 0s 2ms/step - loss: 0.2466 - accuracy: 0.9683\n",
            "Epoch 56/100\n",
            "19/19 [==============================] - 0s 2ms/step - loss: 0.2462 - accuracy: 0.9700\n",
            "Epoch 57/100\n",
            "19/19 [==============================] - 0s 2ms/step - loss: 0.2460 - accuracy: 0.9650\n",
            "Epoch 58/100\n",
            "19/19 [==============================] - 0s 2ms/step - loss: 0.2461 - accuracy: 0.9650\n",
            "Epoch 59/100\n",
            "19/19 [==============================] - 0s 2ms/step - loss: 0.2456 - accuracy: 0.9650\n",
            "Epoch 60/100\n",
            "19/19 [==============================] - 0s 2ms/step - loss: 0.2441 - accuracy: 0.9650\n",
            "Epoch 61/100\n",
            "19/19 [==============================] - 0s 2ms/step - loss: 0.2458 - accuracy: 0.9667\n",
            "Epoch 62/100\n",
            "19/19 [==============================] - 0s 2ms/step - loss: 0.2437 - accuracy: 0.9650\n",
            "Epoch 63/100\n",
            "19/19 [==============================] - 0s 2ms/step - loss: 0.2433 - accuracy: 0.9733\n",
            "Epoch 64/100\n",
            "19/19 [==============================] - 0s 2ms/step - loss: 0.2442 - accuracy: 0.9683\n",
            "Epoch 65/100\n",
            "19/19 [==============================] - 0s 2ms/step - loss: 0.2432 - accuracy: 0.9717\n",
            "Epoch 66/100\n",
            "19/19 [==============================] - 0s 2ms/step - loss: 0.2428 - accuracy: 0.9683\n",
            "Epoch 67/100\n",
            "19/19 [==============================] - 0s 2ms/step - loss: 0.2428 - accuracy: 0.9733\n",
            "Epoch 68/100\n",
            "19/19 [==============================] - 0s 2ms/step - loss: 0.2429 - accuracy: 0.9650\n",
            "Epoch 69/100\n",
            "19/19 [==============================] - 0s 2ms/step - loss: 0.2413 - accuracy: 0.9700\n",
            "Epoch 70/100\n",
            "19/19 [==============================] - 0s 2ms/step - loss: 0.2412 - accuracy: 0.9733\n",
            "Epoch 71/100\n",
            "19/19 [==============================] - 0s 2ms/step - loss: 0.2408 - accuracy: 0.9700\n",
            "Epoch 72/100\n",
            "19/19 [==============================] - 0s 2ms/step - loss: 0.2407 - accuracy: 0.9700\n",
            "Epoch 73/100\n",
            "19/19 [==============================] - 0s 2ms/step - loss: 0.2403 - accuracy: 0.9717\n",
            "Epoch 74/100\n",
            "19/19 [==============================] - 0s 2ms/step - loss: 0.2406 - accuracy: 0.9733\n",
            "Epoch 75/100\n",
            "19/19 [==============================] - 0s 2ms/step - loss: 0.2415 - accuracy: 0.9667\n",
            "Epoch 76/100\n",
            "19/19 [==============================] - 0s 3ms/step - loss: 0.2390 - accuracy: 0.9733\n",
            "Epoch 77/100\n",
            "19/19 [==============================] - 0s 2ms/step - loss: 0.2393 - accuracy: 0.9717\n",
            "Epoch 78/100\n",
            "19/19 [==============================] - 0s 2ms/step - loss: 0.2393 - accuracy: 0.9733\n",
            "Epoch 79/100\n",
            "19/19 [==============================] - 0s 2ms/step - loss: 0.2392 - accuracy: 0.9717\n",
            "Epoch 80/100\n",
            "19/19 [==============================] - 0s 2ms/step - loss: 0.2386 - accuracy: 0.9700\n",
            "Epoch 81/100\n",
            "19/19 [==============================] - 0s 2ms/step - loss: 0.2395 - accuracy: 0.9700\n",
            "Epoch 82/100\n",
            "19/19 [==============================] - 0s 2ms/step - loss: 0.2393 - accuracy: 0.9733\n",
            "Epoch 83/100\n",
            "19/19 [==============================] - 0s 2ms/step - loss: 0.2408 - accuracy: 0.9683\n",
            "Epoch 84/100\n",
            "19/19 [==============================] - 0s 2ms/step - loss: 0.2375 - accuracy: 0.9733\n",
            "Epoch 85/100\n",
            "19/19 [==============================] - 0s 2ms/step - loss: 0.2374 - accuracy: 0.9717\n",
            "Epoch 86/100\n",
            "19/19 [==============================] - 0s 2ms/step - loss: 0.2375 - accuracy: 0.9733\n",
            "Epoch 87/100\n",
            "19/19 [==============================] - 0s 3ms/step - loss: 0.2367 - accuracy: 0.9733\n",
            "Epoch 88/100\n",
            "19/19 [==============================] - 0s 2ms/step - loss: 0.2362 - accuracy: 0.9733\n",
            "Epoch 89/100\n",
            "19/19 [==============================] - 0s 2ms/step - loss: 0.2362 - accuracy: 0.9733\n",
            "Epoch 90/100\n",
            "19/19 [==============================] - 0s 2ms/step - loss: 0.2365 - accuracy: 0.9750\n",
            "Epoch 91/100\n",
            "19/19 [==============================] - 0s 2ms/step - loss: 0.2356 - accuracy: 0.9683\n",
            "Epoch 92/100\n",
            "19/19 [==============================] - 0s 2ms/step - loss: 0.2362 - accuracy: 0.9733\n",
            "Epoch 93/100\n",
            "19/19 [==============================] - 0s 2ms/step - loss: 0.2361 - accuracy: 0.9750\n",
            "Epoch 94/100\n",
            "19/19 [==============================] - 0s 2ms/step - loss: 0.2369 - accuracy: 0.9750\n",
            "Epoch 95/100\n",
            "19/19 [==============================] - 0s 2ms/step - loss: 0.2365 - accuracy: 0.9700\n",
            "Epoch 96/100\n",
            "19/19 [==============================] - 0s 3ms/step - loss: 0.2354 - accuracy: 0.9717\n",
            "Epoch 97/100\n",
            "19/19 [==============================] - 0s 2ms/step - loss: 0.2357 - accuracy: 0.9750\n",
            "Epoch 98/100\n",
            "19/19 [==============================] - 0s 2ms/step - loss: 0.2346 - accuracy: 0.9750\n",
            "Epoch 99/100\n",
            "19/19 [==============================] - 0s 2ms/step - loss: 0.2349 - accuracy: 0.9750\n",
            "Epoch 100/100\n",
            "19/19 [==============================] - 0s 2ms/step - loss: 0.2347 - accuracy: 0.9733\n",
            "Model: \"sequential_3\"\n",
            "_________________________________________________________________\n",
            " Layer (type)                Output Shape              Param #   \n",
            "=================================================================\n",
            " dense_13 (Dense)            (None, 50)                1500      \n",
            "                                                                 \n",
            " dense_14 (Dense)            (None, 50)                2550      \n",
            "                                                                 \n",
            " dense_15 (Dense)            (None, 1)                 51        \n",
            "                                                                 \n",
            "=================================================================\n",
            "Total params: 4,101\n",
            "Trainable params: 4,101\n",
            "Non-trainable params: 0\n",
            "_________________________________________________________________\n"
          ]
        }
      ]
    },
    {
      "cell_type": "code",
      "source": [
        "y_preds=model_2.predict(X_test)"
      ],
      "metadata": {
        "id": "m7ejkp8OMych",
        "colab": {
          "base_uri": "https://localhost:8080/"
        },
        "outputId": "ab4bba2e-0c20-497e-bef7-1ca3e11ffbbc"
      },
      "execution_count": null,
      "outputs": [
        {
          "output_type": "stream",
          "name": "stdout",
          "text": [
            "7/7 [==============================] - 0s 2ms/step\n"
          ]
        }
      ]
    },
    {
      "cell_type": "code",
      "source": [
        "model_2.evaluate(X_test, Y_test)"
      ],
      "metadata": {
        "colab": {
          "base_uri": "https://localhost:8080/"
        },
        "id": "72_TwnAuNYF_",
        "outputId": "e55a38c7-36c5-4951-b041-831887131c9c"
      },
      "execution_count": null,
      "outputs": [
        {
          "output_type": "stream",
          "name": "stdout",
          "text": [
            "7/7 [==============================] - 0s 3ms/step - loss: 0.3936 - accuracy: 0.8950\n"
          ]
        },
        {
          "output_type": "execute_result",
          "data": {
            "text/plain": [
              "[0.39361125230789185, 0.8949999809265137]"
            ]
          },
          "metadata": {},
          "execution_count": 79
        }
      ]
    },
    {
      "cell_type": "code",
      "source": [
        "accuracy_score(Y_test, tf.round(y_preds))\n",
        "\n"
      ],
      "metadata": {
        "colab": {
          "base_uri": "https://localhost:8080/"
        },
        "id": "GgByOBF-GqzO",
        "outputId": "559ccf5e-3914-4c5b-9e1b-13ca7673457f"
      },
      "execution_count": null,
      "outputs": [
        {
          "output_type": "execute_result",
          "data": {
            "text/plain": [
              "0.895"
            ]
          },
          "metadata": {},
          "execution_count": 80
        }
      ]
    },
    {
      "cell_type": "code",
      "source": [
        "f1_score(Y_test, tf.round(y_preds))"
      ],
      "metadata": {
        "id": "vlJAPh6xJn-d",
        "colab": {
          "base_uri": "https://localhost:8080/"
        },
        "outputId": "0c031db9-74a7-4f23-b1e0-5ebfa756438e"
      },
      "execution_count": null,
      "outputs": [
        {
          "output_type": "execute_result",
          "data": {
            "text/plain": [
              "0.9163346613545816"
            ]
          },
          "metadata": {},
          "execution_count": 81
        }
      ]
    },
    {
      "cell_type": "code",
      "source": [
        "pd.DataFrame(history.history).loc[:, :\"accuracy\"].plot()"
      ],
      "metadata": {
        "colab": {
          "base_uri": "https://localhost:8080/",
          "height": 447
        },
        "id": "N427QTtRBL0I",
        "outputId": "cfbc8bcf-b10b-4e88-ca1c-375bdfb03e49"
      },
      "execution_count": null,
      "outputs": [
        {
          "output_type": "execute_result",
          "data": {
            "text/plain": [
              "<Axes: >"
            ]
          },
          "metadata": {},
          "execution_count": 82
        },
        {
          "output_type": "display_data",
          "data": {
            "text/plain": [
              "<Figure size 640x480 with 1 Axes>"
            ],
            "image/png": "[encoded data removed]"
          },
          "metadata": {}
        }
      ]
    },
    {
      "cell_type": "code",
      "source": [
        "\n",
        "# from keras import backend as K\n",
        "\n",
        "# def recall_m(Y_test, y_preds):\n",
        "#     true_positives = K.sum(K.round(K.clip(Y_test * y_preds, 0, 1)))\n",
        "#     possible_positives = K.sum(K.round(K.clip(Y_test, 0, 1)))\n",
        "#     recall = true_positives / (possible_positives + K.epsilon())\n",
        "#     return recall\n",
        "\n",
        "# def precision_m(Y_test, y_preds):\n",
        "#     true_positives = K.sum(K.round(K.clip(Y_test * y_preds, 0, 1)))\n",
        "#     predicted_positives = K.sum(K.round(K.clip(y_preds, 0, 1)))\n",
        "#     precision = true_positives / (predicted_positives + K.epsilon())\n",
        "#     return precision\n",
        "\n",
        "# def f1_m(Y_test, y_preds):\n",
        "#     precision = precision_m(Y_test, y_preds)\n",
        "#     recall = recall_m(Y_test, y_preds)\n",
        "#     return 2*((precision*recall)/(precision+recall+K.epsilon()))\n",
        "\n",
        "# # compile the model\n",
        "# # model.compile(optimizer='adam', loss='binary_crossentropy', metrics=['acc',f1_m,precision_m, recall_m])\n",
        "# model_2.compile(loss=tf.keras.losses.BinaryCrossentropy(),\n",
        "#                 optimizer=tf.keras.optimizers.Adam(learning_rate=0.001),  metrics=[precision_m, recall_m,f1_m])\n",
        "# # fit the model\n",
        "# # history = model.fit(Xtrain, ytrain, validation_split=0.3, epochs=10, verbose=0)\n",
        "# history = model_2.fit(X_train, Y_train, epochs=100, validation_data=(X_valid, Y_valid))\n",
        "# # evaluate the model\n",
        "# recall,f1_score = model.evaluate(X_test, Y_test, verbose=0)\n",
        "# f1_score"
      ],
      "metadata": {
        "id": "ifwhTvnNBMWF"
      },
      "execution_count": null,
      "outputs": []
    },
    {
      "cell_type": "code",
      "source": [
        "fig, ax = plt.subplots()\n",
        "disp = ConfusionMatrixDisplay(confusion_matrix(Y_test, tf.round(y_preds)))\n",
        "disp.plot(cmap=plt.cm.Blues, ax=ax)\n",
        "plt.grid(False)"
      ],
      "metadata": {
        "colab": {
          "base_uri": "https://localhost:8080/",
          "height": 449
        },
        "id": "YTcJhi0N6u1r",
        "outputId": "64933324-98ec-4f5b-de84-eaeaf0201a36"
      },
      "execution_count": null,
      "outputs": [
        {
          "output_type": "display_data",
          "data": {
            "text/plain": [
              "<Figure size 640x480 with 2 Axes>"
            ],
            "image/png": "[encoded data removed]"
          },
          "metadata": {}
        }
      ]
    },
    {
      "cell_type": "markdown",
      "source": [
        "K-Means Clustering"
      ],
      "metadata": {
        "id": "xx9ilsuQrvHF"
      }
    },
    {
      "cell_type": "code",
      "source": [
        "dataset_clustering = pd.read_csv(\"Comp1801CourseworkDataResit.csv\")\n",
        "rng = np.random.default_rng(0)\n",
        "dataset_clustering = dataset_clustering.iloc[rng.permutation(len(dataset_clustering))].reset_index(drop=True)\n",
        "dataset_clustering"
      ],
      "metadata": {
        "id": "bh0qHTNGruZM",
        "colab": {
          "base_uri": "https://localhost:8080/",
          "height": 463
        },
        "outputId": "eaa14ae8-1fba-4f27-fe11-700e8554e663"
      },
      "execution_count": null,
      "outputs": [
        {
          "output_type": "execute_result",
          "data": {
            "text/plain": [
              "     Age  SiteSpending  SiteTime  RecommendImpression Education  \\\n",
              "0     20       1479.68        94                    1   A Level   \n",
              "1     28        651.70        52                    2   A Level   \n",
              "2     63       4014.53       132                    7     Other   \n",
              "3     27       3920.23        59                    8   A Level   \n",
              "4     50       3944.95       267                    9    Degree   \n",
              "..   ...           ...       ...                  ...       ...   \n",
              "995   28         25.17        59                    0       PhD   \n",
              "996   55       2934.87       247                   10    Degree   \n",
              "997   31       3033.01       202                    6    Degree   \n",
              "998   33        500.50       196                    4   A Level   \n",
              "999   29       1670.65        69                    0       PhD   \n",
              "\n",
              "           WorkType     Sex                    Region    Salary  \n",
              "0        Unemployed  Female             East Midlands  15256.34  \n",
              "1        Unemployed    Male                North West  17215.99  \n",
              "2    Private sector  Female                  Scotland  65412.80  \n",
              "3    Private sector  Female                South West  56271.76  \n",
              "4    Private sector  Female                South West  64153.68  \n",
              "..              ...     ...                       ...       ...  \n",
              "995   Public Sector  Female           East of England  17586.65  \n",
              "996  Private sector    Male  Yorkshire and The Humber  53776.98  \n",
              "997  Private sector    Male                North East  77862.33  \n",
              "998  Private sector  Female                  Scotland  56595.88  \n",
              "999      Unemployed    Male             East Midlands  22808.13  \n",
              "\n",
              "[1000 rows x 9 columns]"
            ],
            "text/html": [
              "\n",
              "  <div id=\"df-c19c4038-15f4-42ec-86b9-8b5bbcbf186a\">\n",
              "    <div class=\"colab-df-container\">\n",
              "      <div>\n",
              "<style scoped>\n",
              "    .dataframe tbody tr th:only-of-type {\n",
              "        vertical-align: middle;\n",
              "    }\n",
              "\n",
              "    .dataframe tbody tr th {\n",
              "        vertical-align: top;\n",
              "    }\n",
              "\n",
              "    .dataframe thead th {\n",
              "        text-align: right;\n",
              "    }\n",
              "</style>\n",
              "<table border=\"1\" class=\"dataframe\">\n",
              "  <thead>\n",
              "    <tr style=\"text-align: right;\">\n",
              "      <th></th>\n",
              "      <th>Age</th>\n",
              "      <th>SiteSpending</th>\n",
              "      <th>SiteTime</th>\n",
              "      <th>RecommendImpression</th>\n",
              "      <th>Education</th>\n",
              "      <th>WorkType</th>\n",
              "      <th>Sex</th>\n",
              "      <th>Region</th>\n",
              "      <th>Salary</th>\n",
              "    </tr>\n",
              "  </thead>\n",
              "  <tbody>\n",
              "    <tr>\n",
              "      <th>0</th>\n",
              "      <td>20</td>\n",
              "      <td>1479.68</td>\n",
              "      <td>94</td>\n",
              "      <td>1</td>\n",
              "      <td>A Level</td>\n",
              "      <td>Unemployed</td>\n",
              "      <td>Female</td>\n",
              "      <td>East Midlands</td>\n",
              "      <td>15256.34</td>\n",
              "    </tr>\n",
              "    <tr>\n",
              "      <th>1</th>\n",
              "      <td>28</td>\n",
              "      <td>651.70</td>\n",
              "      <td>52</td>\n",
              "      <td>2</td>\n",
              "      <td>A Level</td>\n",
              "      <td>Unemployed</td>\n",
              "      <td>Male</td>\n",
              "      <td>North West</td>\n",
              "      <td>17215.99</td>\n",
              "    </tr>\n",
              "    <tr>\n",
              "      <th>2</th>\n",
              "      <td>63</td>\n",
              "      <td>4014.53</td>\n",
              "      <td>132</td>\n",
              "      <td>7</td>\n",
              "      <td>Other</td>\n",
              "      <td>Private sector</td>\n",
              "      <td>Female</td>\n",
              "      <td>Scotland</td>\n",
              "      <td>65412.80</td>\n",
              "    </tr>\n",
              "    <tr>\n",
              "      <th>3</th>\n",
              "      <td>27</td>\n",
              "      <td>3920.23</td>\n",
              "      <td>59</td>\n",
              "      <td>8</td>\n",
              "      <td>A Level</td>\n",
              "      <td>Private sector</td>\n",
              "      <td>Female</td>\n",
              "      <td>South West</td>\n",
              "      <td>56271.76</td>\n",
              "    </tr>\n",
              "    <tr>\n",
              "      <th>4</th>\n",
              "      <td>50</td>\n",
              "      <td>3944.95</td>\n",
              "      <td>267</td>\n",
              "      <td>9</td>\n",
              "      <td>Degree</td>\n",
              "      <td>Private sector</td>\n",
              "      <td>Female</td>\n",
              "      <td>South West</td>\n",
              "      <td>64153.68</td>\n",
              "    </tr>\n",
              "    <tr>\n",
              "      <th>...</th>\n",
              "      <td>...</td>\n",
              "      <td>...</td>\n",
              "      <td>...</td>\n",
              "      <td>...</td>\n",
              "      <td>...</td>\n",
              "      <td>...</td>\n",
              "      <td>...</td>\n",
              "      <td>...</td>\n",
              "      <td>...</td>\n",
              "    </tr>\n",
              "    <tr>\n",
              "      <th>995</th>\n",
              "      <td>28</td>\n",
              "      <td>25.17</td>\n",
              "      <td>59</td>\n",
              "      <td>0</td>\n",
              "      <td>PhD</td>\n",
              "      <td>Public Sector</td>\n",
              "      <td>Female</td>\n",
              "      <td>East of England</td>\n",
              "      <td>17586.65</td>\n",
              "    </tr>\n",
              "    <tr>\n",
              "      <th>996</th>\n",
              "      <td>55</td>\n",
              "      <td>2934.87</td>\n",
              "      <td>247</td>\n",
              "      <td>10</td>\n",
              "      <td>Degree</td>\n",
              "      <td>Private sector</td>\n",
              "      <td>Male</td>\n",
              "      <td>Yorkshire and The Humber</td>\n",
              "      <td>53776.98</td>\n",
              "    </tr>\n",
              "    <tr>\n",
              "      <th>997</th>\n",
              "      <td>31</td>\n",
              "      <td>3033.01</td>\n",
              "      <td>202</td>\n",
              "      <td>6</td>\n",
              "      <td>Degree</td>\n",
              "      <td>Private sector</td>\n",
              "      <td>Male</td>\n",
              "      <td>North East</td>\n",
              "      <td>77862.33</td>\n",
              "    </tr>\n",
              "    <tr>\n",
              "      <th>998</th>\n",
              "      <td>33</td>\n",
              "      <td>500.50</td>\n",
              "      <td>196</td>\n",
              "      <td>4</td>\n",
              "      <td>A Level</td>\n",
              "      <td>Private sector</td>\n",
              "      <td>Female</td>\n",
              "      <td>Scotland</td>\n",
              "      <td>56595.88</td>\n",
              "    </tr>\n",
              "    <tr>\n",
              "      <th>999</th>\n",
              "      <td>29</td>\n",
              "      <td>1670.65</td>\n",
              "      <td>69</td>\n",
              "      <td>0</td>\n",
              "      <td>PhD</td>\n",
              "      <td>Unemployed</td>\n",
              "      <td>Male</td>\n",
              "      <td>East Midlands</td>\n",
              "      <td>22808.13</td>\n",
              "    </tr>\n",
              "  </tbody>\n",
              "</table>\n",
              "<p>1000 rows × 9 columns</p>\n",
              "</div>\n",
              "      <button class=\"colab-df-convert\" onclick=\"convertToInteractive('df-c19c4038-15f4-42ec-86b9-8b5bbcbf186a')\"\n",
              "              title=\"Convert this dataframe to an interactive table.\"\n",
              "              style=\"display:none;\">\n",
              "        \n",
              "  <svg xmlns=\"http://www.w3.org/2000/svg\" height=\"24px\"viewBox=\"0 0 24 24\"\n",
              "       width=\"24px\">\n",
              "    <path d=\"M0 0h24v24H0V0z\" fill=\"none\"/>\n",
              "    <path d=\"M18.56 5.44l.94 2.06.94-2.06 2.06-.94-2.06-.94-.94-2.06-.94 2.06-2.06.94zm-11 1L8.5 8.5l.94-2.06 2.06-.94-2.06-.94L8.5 2.5l-.94 2.06-2.06.94zm10 10l.94 2.06.94-2.06 2.06-.94-2.06-.94-.94-2.06-.94 2.06-2.06.94z\"/><path d=\"M17.41 7.96l-1.37-1.37c-.4-.4-.92-.59-1.43-.59-.52 0-1.04.2-1.43.59L10.3 9.45l-7.72 7.72c-.78.78-.78 2.05 0 2.83L4 21.41c.39.39.9.59 1.41.59.51 0 1.02-.2 1.41-.59l7.78-7.78 2.81-2.81c.8-.78.8-2.07 0-2.86zM5.41 20L4 18.59l7.72-7.72 1.47 1.35L5.41 20z\"/>\n",
              "  </svg>\n",
              "      </button>\n",
              "      \n",
              "  <style>\n",
              "    .colab-df-container {\n",
              "      display:flex;\n",
              "      flex-wrap:wrap;\n",
              "      gap: 12px;\n",
              "    }\n",
              "\n",
              "    .colab-df-convert {\n",
              "      background-color: #E8F0FE;\n",
              "      border: none;\n",
              "      border-radius: 50%;\n",
              "      cursor: pointer;\n",
              "      display: none;\n",
              "      fill: #1967D2;\n",
              "      height: 32px;\n",
              "      padding: 0 0 0 0;\n",
              "      width: 32px;\n",
              "    }\n",
              "\n",
              "    .colab-df-convert:hover {\n",
              "      background-color: #E2EBFA;\n",
              "      box-shadow: 0px 1px 2px rgba(60, 64, 67, 0.3), 0px 1px 3px 1px rgba(60, 64, 67, 0.15);\n",
              "      fill: #174EA6;\n",
              "    }\n",
              "\n",
              "    [theme=dark] .colab-df-convert {\n",
              "      background-color: #3B4455;\n",
              "      fill: #D2E3FC;\n",
              "    }\n",
              "\n",
              "    [theme=dark] .colab-df-convert:hover {\n",
              "      background-color: #434B5C;\n",
              "      box-shadow: 0px 1px 3px 1px rgba(0, 0, 0, 0.15);\n",
              "      filter: drop-shadow(0px 1px 2px rgba(0, 0, 0, 0.3));\n",
              "      fill: #FFFFFF;\n",
              "    }\n",
              "  </style>\n",
              "\n",
              "      <script>\n",
              "        const buttonEl =\n",
              "          document.querySelector('#df-c19c4038-15f4-42ec-86b9-8b5bbcbf186a button.colab-df-convert');\n",
              "        buttonEl.style.display =\n",
              "          google.colab.kernel.accessAllowed ? 'block' : 'none';\n",
              "\n",
              "        async function convertToInteractive(key) {\n",
              "          const element = document.querySelector('#df-c19c4038-15f4-42ec-86b9-8b5bbcbf186a');\n",
              "          const dataTable =\n",
              "            await google.colab.kernel.invokeFunction('convertToInteractive',\n",
              "                                                     [key], {});\n",
              "          if (!dataTable) return;\n",
              "\n",
              "          const docLinkHtml = 'Like what you see? Visit the ' +\n",
              "            '<a target=\"_blank\" href=https://colab.research.google.com/notebooks/data_table.ipynb>data table notebook</a>'\n",
              "            + ' to learn more about interactive tables.';\n",
              "          element.innerHTML = '';\n",
              "          dataTable['output_type'] = 'display_data';\n",
              "          await google.colab.output.renderOutput(dataTable, element);\n",
              "          const docLink = document.createElement('div');\n",
              "          docLink.innerHTML = docLinkHtml;\n",
              "          element.appendChild(docLink);\n",
              "        }\n",
              "      </script>\n",
              "    </div>\n",
              "  </div>\n",
              "  "
            ]
          },
          "metadata": {},
          "execution_count": 85
        }
      ]
    },
    {
      "cell_type": "code",
      "source": [
        "X=dataset_clustering.drop(['Age','SiteTime','RecommendImpression','Education','WorkType','Sex','Region'],axis=1)\n",
        "X"
      ],
      "metadata": {
        "id": "LHxt98fnuB4l",
        "colab": {
          "base_uri": "https://localhost:8080/",
          "height": 419
        },
        "outputId": "e1929815-7d32-4d6c-86c5-4fe3cfb9c54e"
      },
      "execution_count": null,
      "outputs": [
        {
          "output_type": "execute_result",
          "data": {
            "text/plain": [
              "     SiteSpending    Salary\n",
              "0         1479.68  15256.34\n",
              "1          651.70  17215.99\n",
              "2         4014.53  65412.80\n",
              "3         3920.23  56271.76\n",
              "4         3944.95  64153.68\n",
              "..            ...       ...\n",
              "995         25.17  17586.65\n",
              "996       2934.87  53776.98\n",
              "997       3033.01  77862.33\n",
              "998        500.50  56595.88\n",
              "999       1670.65  22808.13\n",
              "\n",
              "[1000 rows x 2 columns]"
            ],
            "text/html": [
              "\n",
              "  <div id=\"df-6d73c179-0681-4c14-9510-b9b0be5b8ab8\">\n",
              "    <div class=\"colab-df-container\">\n",
              "      <div>\n",
              "<style scoped>\n",
              "    .dataframe tbody tr th:only-of-type {\n",
              "        vertical-align: middle;\n",
              "    }\n",
              "\n",
              "    .dataframe tbody tr th {\n",
              "        vertical-align: top;\n",
              "    }\n",
              "\n",
              "    .dataframe thead th {\n",
              "        text-align: right;\n",
              "    }\n",
              "</style>\n",
              "<table border=\"1\" class=\"dataframe\">\n",
              "  <thead>\n",
              "    <tr style=\"text-align: right;\">\n",
              "      <th></th>\n",
              "      <th>SiteSpending</th>\n",
              "      <th>Salary</th>\n",
              "    </tr>\n",
              "  </thead>\n",
              "  <tbody>\n",
              "    <tr>\n",
              "      <th>0</th>\n",
              "      <td>1479.68</td>\n",
              "      <td>15256.34</td>\n",
              "    </tr>\n",
              "    <tr>\n",
              "      <th>1</th>\n",
              "      <td>651.70</td>\n",
              "      <td>17215.99</td>\n",
              "    </tr>\n",
              "    <tr>\n",
              "      <th>2</th>\n",
              "      <td>4014.53</td>\n",
              "      <td>65412.80</td>\n",
              "    </tr>\n",
              "    <tr>\n",
              "      <th>3</th>\n",
              "      <td>3920.23</td>\n",
              "      <td>56271.76</td>\n",
              "    </tr>\n",
              "    <tr>\n",
              "      <th>4</th>\n",
              "      <td>3944.95</td>\n",
              "      <td>64153.68</td>\n",
              "    </tr>\n",
              "    <tr>\n",
              "      <th>...</th>\n",
              "      <td>...</td>\n",
              "      <td>...</td>\n",
              "    </tr>\n",
              "    <tr>\n",
              "      <th>995</th>\n",
              "      <td>25.17</td>\n",
              "      <td>17586.65</td>\n",
              "    </tr>\n",
              "    <tr>\n",
              "      <th>996</th>\n",
              "      <td>2934.87</td>\n",
              "      <td>53776.98</td>\n",
              "    </tr>\n",
              "    <tr>\n",
              "      <th>997</th>\n",
              "      <td>3033.01</td>\n",
              "      <td>77862.33</td>\n",
              "    </tr>\n",
              "    <tr>\n",
              "      <th>998</th>\n",
              "      <td>500.50</td>\n",
              "      <td>56595.88</td>\n",
              "    </tr>\n",
              "    <tr>\n",
              "      <th>999</th>\n",
              "      <td>1670.65</td>\n",
              "      <td>22808.13</td>\n",
              "    </tr>\n",
              "  </tbody>\n",
              "</table>\n",
              "<p>1000 rows × 2 columns</p>\n",
              "</div>\n",
              "      <button class=\"colab-df-convert\" onclick=\"convertToInteractive('df-6d73c179-0681-4c14-9510-b9b0be5b8ab8')\"\n",
              "              title=\"Convert this dataframe to an interactive table.\"\n",
              "              style=\"display:none;\">\n",
              "        \n",
              "  <svg xmlns=\"http://www.w3.org/2000/svg\" height=\"24px\"viewBox=\"0 0 24 24\"\n",
              "       width=\"24px\">\n",
              "    <path d=\"M0 0h24v24H0V0z\" fill=\"none\"/>\n",
              "    <path d=\"M18.56 5.44l.94 2.06.94-2.06 2.06-.94-2.06-.94-.94-2.06-.94 2.06-2.06.94zm-11 1L8.5 8.5l.94-2.06 2.06-.94-2.06-.94L8.5 2.5l-.94 2.06-2.06.94zm10 10l.94 2.06.94-2.06 2.06-.94-2.06-.94-.94-2.06-.94 2.06-2.06.94z\"/><path d=\"M17.41 7.96l-1.37-1.37c-.4-.4-.92-.59-1.43-.59-.52 0-1.04.2-1.43.59L10.3 9.45l-7.72 7.72c-.78.78-.78 2.05 0 2.83L4 21.41c.39.39.9.59 1.41.59.51 0 1.02-.2 1.41-.59l7.78-7.78 2.81-2.81c.8-.78.8-2.07 0-2.86zM5.41 20L4 18.59l7.72-7.72 1.47 1.35L5.41 20z\"/>\n",
              "  </svg>\n",
              "      </button>\n",
              "      \n",
              "  <style>\n",
              "    .colab-df-container {\n",
              "      display:flex;\n",
              "      flex-wrap:wrap;\n",
              "      gap: 12px;\n",
              "    }\n",
              "\n",
              "    .colab-df-convert {\n",
              "      background-color: #E8F0FE;\n",
              "      border: none;\n",
              "      border-radius: 50%;\n",
              "      cursor: pointer;\n",
              "      display: none;\n",
              "      fill: #1967D2;\n",
              "      height: 32px;\n",
              "      padding: 0 0 0 0;\n",
              "      width: 32px;\n",
              "    }\n",
              "\n",
              "    .colab-df-convert:hover {\n",
              "      background-color: #E2EBFA;\n",
              "      box-shadow: 0px 1px 2px rgba(60, 64, 67, 0.3), 0px 1px 3px 1px rgba(60, 64, 67, 0.15);\n",
              "      fill: #174EA6;\n",
              "    }\n",
              "\n",
              "    [theme=dark] .colab-df-convert {\n",
              "      background-color: #3B4455;\n",
              "      fill: #D2E3FC;\n",
              "    }\n",
              "\n",
              "    [theme=dark] .colab-df-convert:hover {\n",
              "      background-color: #434B5C;\n",
              "      box-shadow: 0px 1px 3px 1px rgba(0, 0, 0, 0.15);\n",
              "      filter: drop-shadow(0px 1px 2px rgba(0, 0, 0, 0.3));\n",
              "      fill: #FFFFFF;\n",
              "    }\n",
              "  </style>\n",
              "\n",
              "      <script>\n",
              "        const buttonEl =\n",
              "          document.querySelector('#df-6d73c179-0681-4c14-9510-b9b0be5b8ab8 button.colab-df-convert');\n",
              "        buttonEl.style.display =\n",
              "          google.colab.kernel.accessAllowed ? 'block' : 'none';\n",
              "\n",
              "        async function convertToInteractive(key) {\n",
              "          const element = document.querySelector('#df-6d73c179-0681-4c14-9510-b9b0be5b8ab8');\n",
              "          const dataTable =\n",
              "            await google.colab.kernel.invokeFunction('convertToInteractive',\n",
              "                                                     [key], {});\n",
              "          if (!dataTable) return;\n",
              "\n",
              "          const docLinkHtml = 'Like what you see? Visit the ' +\n",
              "            '<a target=\"_blank\" href=https://colab.research.google.com/notebooks/data_table.ipynb>data table notebook</a>'\n",
              "            + ' to learn more about interactive tables.';\n",
              "          element.innerHTML = '';\n",
              "          dataTable['output_type'] = 'display_data';\n",
              "          await google.colab.output.renderOutput(dataTable, element);\n",
              "          const docLink = document.createElement('div');\n",
              "          docLink.innerHTML = docLinkHtml;\n",
              "          element.appendChild(docLink);\n",
              "        }\n",
              "      </script>\n",
              "    </div>\n",
              "  </div>\n",
              "  "
            ]
          },
          "metadata": {},
          "execution_count": 86
        }
      ]
    },
    {
      "cell_type": "markdown",
      "source": [
        "elbow method\n"
      ],
      "metadata": {
        "id": "oVO7UOety-by"
      }
    },
    {
      "cell_type": "code",
      "source": [
        "from sklearn.cluster import KMeans\n",
        "wcss_list= []  #Initializing the list for the values of WCSS\n",
        "\n",
        "#Using for loop for iterations from 1 to 10.\n",
        "for i in range(1, 11):\n",
        "    kmeans = KMeans(n_clusters=i, init='k-means++', random_state= 42)\n",
        "    kmeans.fit(X)\n",
        "    wcss_list.append(kmeans.inertia_)\n",
        "plt.plot(range(1, 11), wcss_list)\n",
        "plt.title('The Elobw Method Graph')\n",
        "plt.xlabel('Number of clusters(k)')\n",
        "plt.ylabel('wcss_list')\n",
        "plt.show()"
      ],
      "metadata": {
        "id": "xonXaqfP0dTN",
        "colab": {
          "base_uri": "https://localhost:8080/",
          "height": 832
        },
        "outputId": "f5cf9221-4723-4404-86cf-632b9b8e2ac6"
      },
      "execution_count": null,
      "outputs": [
        {
          "output_type": "stream",
          "name": "stderr",
          "text": [
            "/usr/local/lib/python3.9/dist-packages/sklearn/cluster/_kmeans.py:870: FutureWarning: The default value of `n_init` will change from 10 to 'auto' in 1.4. Set the value of `n_init` explicitly to suppress the warning\n",
            "  warnings.warn(\n",
            "/usr/local/lib/python3.9/dist-packages/sklearn/cluster/_kmeans.py:870: FutureWarning: The default value of `n_init` will change from 10 to 'auto' in 1.4. Set the value of `n_init` explicitly to suppress the warning\n",
            "  warnings.warn(\n",
            "/usr/local/lib/python3.9/dist-packages/sklearn/cluster/_kmeans.py:870: FutureWarning: The default value of `n_init` will change from 10 to 'auto' in 1.4. Set the value of `n_init` explicitly to suppress the warning\n",
            "  warnings.warn(\n",
            "/usr/local/lib/python3.9/dist-packages/sklearn/cluster/_kmeans.py:870: FutureWarning: The default value of `n_init` will change from 10 to 'auto' in 1.4. Set the value of `n_init` explicitly to suppress the warning\n",
            "  warnings.warn(\n",
            "/usr/local/lib/python3.9/dist-packages/sklearn/cluster/_kmeans.py:870: FutureWarning: The default value of `n_init` will change from 10 to 'auto' in 1.4. Set the value of `n_init` explicitly to suppress the warning\n",
            "  warnings.warn(\n",
            "/usr/local/lib/python3.9/dist-packages/sklearn/cluster/_kmeans.py:870: FutureWarning: The default value of `n_init` will change from 10 to 'auto' in 1.4. Set the value of `n_init` explicitly to suppress the warning\n",
            "  warnings.warn(\n",
            "/usr/local/lib/python3.9/dist-packages/sklearn/cluster/_kmeans.py:870: FutureWarning: The default value of `n_init` will change from 10 to 'auto' in 1.4. Set the value of `n_init` explicitly to suppress the warning\n",
            "  warnings.warn(\n",
            "/usr/local/lib/python3.9/dist-packages/sklearn/cluster/_kmeans.py:870: FutureWarning: The default value of `n_init` will change from 10 to 'auto' in 1.4. Set the value of `n_init` explicitly to suppress the warning\n",
            "  warnings.warn(\n",
            "/usr/local/lib/python3.9/dist-packages/sklearn/cluster/_kmeans.py:870: FutureWarning: The default value of `n_init` will change from 10 to 'auto' in 1.4. Set the value of `n_init` explicitly to suppress the warning\n",
            "  warnings.warn(\n",
            "/usr/local/lib/python3.9/dist-packages/sklearn/cluster/_kmeans.py:870: FutureWarning: The default value of `n_init` will change from 10 to 'auto' in 1.4. Set the value of `n_init` explicitly to suppress the warning\n",
            "  warnings.warn(\n"
          ]
        },
        {
          "output_type": "display_data",
          "data": {
            "text/plain": [
              "<Figure size 640x480 with 1 Axes>"
            ],
            "image/png": "[encoded data removed]"
          },
          "metadata": {}
        }
      ]
    },
    {
      "cell_type": "code",
      "source": [
        "from sklearn.cluster import KMeans\n",
        "kmeans = KMeans(n_clusters=2)\n",
        "y_predict= kmeans.fit_predict(X)\n"
      ],
      "metadata": {
        "id": "eC6xXMejvBpR",
        "colab": {
          "base_uri": "https://localhost:8080/"
        },
        "outputId": "d51a7cad-5694-46f9-fde8-ddc9a81bc17a"
      },
      "execution_count": null,
      "outputs": [
        {
          "output_type": "stream",
          "name": "stderr",
          "text": [
            "/usr/local/lib/python3.9/dist-packages/sklearn/cluster/_kmeans.py:870: FutureWarning: The default value of `n_init` will change from 10 to 'auto' in 1.4. Set the value of `n_init` explicitly to suppress the warning\n",
            "  warnings.warn(\n"
          ]
        }
      ]
    },
    {
      "cell_type": "code",
      "source": [
        "X = np.array(X)\n",
        "plt.scatter(X[y_predict == 0, 0], X[y_predict == 0, 1], s = 100, c = 'red', label = 'Cluster 1') #for first cluster\n",
        "plt.scatter(X[y_predict == 1, 0], X[y_predict == 1, 1], s = 100, c = 'green', label = 'Cluster 2') #for second cluster\n",
        "\n",
        "plt.scatter(kmeans.cluster_centers_[:, 0], kmeans.cluster_centers_[:, 1], s = 300, c = 'yellow', label = 'Centroid')\n",
        "plt.title('Clusters of customers')\n",
        "plt.ylabel('Annual Income (k$)')\n",
        "plt.xlabel('Spending Score ')\n",
        "plt.legend()\n",
        "plt.show()\n",
        "\n",
        "\n"
      ],
      "metadata": {
        "id": "rbS4qvPVwLW5",
        "colab": {
          "base_uri": "https://localhost:8080/",
          "height": 472
        },
        "outputId": "703ccded-faf9-4d6c-9789-c468eed5dc46"
      },
      "execution_count": null,
      "outputs": [
        {
          "output_type": "display_data",
          "data": {
            "text/plain": [
              "<Figure size 640x480 with 1 Axes>"
            ],
            "image/png": "[encoded data removed]"
          },
          "metadata": {}
        }
      ]
    },
    {
      "cell_type": "code",
      "source": [
        "from sklearn.cluster import KMeans\n",
        "kmeans = KMeans(n_clusters=3)\n",
        "y_predict= kmeans.fit_predict(X)\n"
      ],
      "metadata": {
        "id": "aIB8KjQ6TjoJ",
        "colab": {
          "base_uri": "https://localhost:8080/"
        },
        "outputId": "99102c7e-618d-4e88-9eef-9edbc0d687b8"
      },
      "execution_count": null,
      "outputs": [
        {
          "output_type": "stream",
          "name": "stderr",
          "text": [
            "/usr/local/lib/python3.9/dist-packages/sklearn/cluster/_kmeans.py:870: FutureWarning: The default value of `n_init` will change from 10 to 'auto' in 1.4. Set the value of `n_init` explicitly to suppress the warning\n",
            "  warnings.warn(\n"
          ]
        }
      ]
    },
    {
      "cell_type": "code",
      "source": [
        "X = np.array(X)\n",
        "plt.scatter(X[y_predict == 0, 0], X[y_predict == 0, 1], s = 100, c = 'red', label = 'Cluster 1') #for first cluster\n",
        "plt.scatter(X[y_predict == 1, 0], X[y_predict == 1, 1], s = 100, c = 'green', label = 'Cluster 2') #for second cluster\n",
        "plt.scatter(X[y_predict == 2, 0], X[y_predict == 2, 1], s = 100, c = 'blue', label = 'Cluster 3')\n",
        "plt.scatter(kmeans.cluster_centers_[:, 0], kmeans.cluster_centers_[:, 1], s = 300, c = 'yellow', label = 'Centroid')\n",
        "plt.title('Clusters of customers')\n",
        "plt.ylabel('Annual Income (k$)')\n",
        "plt.xlabel('Spending Score ')\n",
        "plt.legend()\n",
        "plt.show()"
      ],
      "metadata": {
        "id": "Veqh78O2TkCg",
        "colab": {
          "base_uri": "https://localhost:8080/",
          "height": 472
        },
        "outputId": "7d340bfb-a53e-485f-92e9-d23c872ccc6e"
      },
      "execution_count": null,
      "outputs": [
        {
          "output_type": "display_data",
          "data": {
            "text/plain": [
              "<Figure size 640x480 with 1 Axes>"
            ],
            "image/png": "[encoded data removed]"
          },
          "metadata": {}
        }
      ]
    }
  ]
}